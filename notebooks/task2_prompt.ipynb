{
 "cells": [
  {
   "cell_type": "markdown",
   "metadata": {
    "application/vnd.databricks.v1+cell": {
     "cellMetadata": {},
     "inputWidgets": {},
     "nuid": "a06e2616-51db-4a65-8c6d-d6126cd8d755",
     "showTitle": false,
     "title": ""
    }
   },
   "source": [
    "# Install Packages"
   ]
  },
  {
   "cell_type": "code",
   "execution_count": null,
   "metadata": {
    "application/vnd.databricks.v1+cell": {
     "cellMetadata": {
      "byteLimit": 2048000,
      "rowLimit": 10000
     },
     "inputWidgets": {},
     "nuid": "a6e319fd-473c-4b0d-a3e3-af2f31115c48",
     "showTitle": false,
     "title": ""
    }
   },
   "outputs": [],
   "source": [
    "%pip install langchain_community\n",
    "%pip install langchain_openai"
   ]
  },
  {
   "cell_type": "markdown",
   "metadata": {},
   "source": [
    "# Set up LLM & Embedding Model"
   ]
  },
  {
   "cell_type": "code",
   "execution_count": null,
   "metadata": {
    "application/vnd.databricks.v1+cell": {
     "cellMetadata": {
      "byteLimit": 2048000,
      "rowLimit": 10000
     },
     "inputWidgets": {},
     "nuid": "8e4ad672-8498-484b-8e86-b64cf1154d24",
     "showTitle": false,
     "title": ""
    }
   },
   "outputs": [],
   "source": [
    "import json\n",
    "from langchain_openai import AzureChatOpenAI, AzureOpenAIEmbeddings\n",
    "\n",
    "with open(\"secrets/openai_secrets.json\", \"r\") as file:\n",
    "  openai_secrets = json.load(file)\n",
    "\n",
    "\n",
    "llm = AzureChatOpenAI(\n",
    "    azure_endpoint=openai_secrets[\"openai_api_base\"],\n",
    "    openai_api_version=\"2023-03-15-preview\",\n",
    "    deployment_name=\"gpt-4-32k\",\n",
    "    openai_api_key=openai_secrets[\"openai_api_key\"],\n",
    "    openai_api_type=\"azure\",\n",
    "    temperature=0,\n",
    ")\n",
    "\n",
    "embedding_model = AzureOpenAIEmbeddings(\n",
    "    chunk_size=1,\n",
    "    deployment=\"text-embedding-ada-002\",\n",
    "    openai_api_version=\"2023-03-15-preview\",\n",
    "    azure_endpoint=openai_secrets[\"openai_api_base\"],\n",
    "    openai_api_key=openai_secrets[\"openai_api_key\"],\n",
    "    openai_api_type=\"azure\",\n",
    ")"
   ]
  },
  {
   "cell_type": "markdown",
   "metadata": {
    "application/vnd.databricks.v1+cell": {
     "cellMetadata": {},
     "inputWidgets": {},
     "nuid": "df614901-6c1f-462c-a30c-fdb5a4e85162",
     "showTitle": false,
     "title": ""
    }
   },
   "source": [
    "# Entity Extraction"
   ]
  },
  {
   "cell_type": "code",
   "execution_count": null,
   "metadata": {
    "application/vnd.databricks.v1+cell": {
     "cellMetadata": {
      "byteLimit": 2048000,
      "rowLimit": 10000
     },
     "inputWidgets": {},
     "nuid": "46905709-84e9-4adf-b861-5db809672f8e",
     "showTitle": false,
     "title": ""
    }
   },
   "outputs": [],
   "source": [
    "from langchain.prompts.few_shot import FewShotPromptTemplate\n",
    "from typing import List, Dict, Any\n",
    "import json\n",
    "\n",
    "class EntityExtractionWithLLM:\n",
    "    \"\"\"\n",
    "    Class to perform entity extraction using a Large Language Model (LLM) based on few shot examples.\n",
    "    \"\"\"\n",
    "    def __init__(self, llm: Any, examples: List[Dict]) -> None:\n",
    "        \"\"\"\n",
    "        Initializes the EntityExtractionWithLLM instance.\n",
    "\n",
    "        Args:\n",
    "        - llm (Any): The large language model used for entity extraction.\n",
    "        - examples (List[Dict]): List of example dictionaries used for entity extraction.\n",
    "        \"\"\"\n",
    "        self.llm = llm\n",
    "        self.examples = examples\n",
    "    \n",
    "    def extract_entities(\n",
    "        self,\n",
    "        input: str,\n",
    "        example_prompt: str,\n",
    "        prefix_intructions: str\n",
    "    ) -> str:\n",
    "        \"\"\"\n",
    "        Extracts entities from the input text using the LLM and example-based prompt.\n",
    "\n",
    "        Args:\n",
    "        - input (str): The input text from which entities are to be extracted.\n",
    "        - example_prompt (str): Prompt template for examples to guide entity extraction.\n",
    "        - prefix_instructions (str): Prefix instructions to guide the LLM in entity extraction.\n",
    "\n",
    "        Returns:\n",
    "        - str: Extracted entities based on the input text.\n",
    "        \"\"\"\n",
    "\n",
    "        prompt = FewShotPromptTemplate(\n",
    "            examples=self.examples,\n",
    "            example_prompt=example_prompt,\n",
    "            prefix=prefix_intructions,\n",
    "            suffix=\"\"\"Question: {input}\\nCompany Name:\"\"\",\n",
    "            input_variables=[\"input\"],\n",
    "            example_separator=\"\\n\",\n",
    "        )\n",
    "        \n",
    "        chain = prompt | self.llm\n",
    "\n",
    "        return chain.invoke({\"input\": input})\n",
    "    "
   ]
  },
  {
   "cell_type": "code",
   "execution_count": null,
   "metadata": {
    "application/vnd.databricks.v1+cell": {
     "cellMetadata": {
      "byteLimit": 2048000,
      "rowLimit": 10000
     },
     "inputWidgets": {},
     "nuid": "54a268e5-072e-46a2-8351-d5578cf00eb7",
     "showTitle": false,
     "title": ""
    }
   },
   "outputs": [],
   "source": [
    "from langchain.prompts.prompt import PromptTemplate\n",
    "\n",
    "EXTRACTION_TEMPLATE = f\"\"\"\n",
    "Extract company name from the following passage. If there are no company names mentioned, return an empty list.\n",
    "\n",
    "Examples:\n",
    "\"\"\"\n",
    "\n",
    "ENTITY_EXTRACTION_EXAMPLES = [\n",
    "    {\n",
    "        \"query\": \"A man looks at a Tesla Cybertruck parked near the SpaceX Starship as it stands on the launch pad\",\n",
    "        \"company_name\": [\"Tesla\"],\n",
    "    },\n",
    "    {\n",
    "        \"query\": \"A man looks at a car parked near the SpaceX Starship as it stands on the launch pad\",\n",
    "        \"company_name\": [],\n",
    "    },\n",
    "    {\n",
    "        \"query\": \"The Bank of England said it forecast a\\n  shortage of around 250 mln stg in the money market today.\",\n",
    "        \"company_name\": [\"Bank of England\"],\n",
    "    },\n",
    "    {\n",
    "        \"query\": \"Australian markets are booming as foreign\\n  fund managers redirect capital away from the United States\",\n",
    "        \"company_name\": [],\n",
    "    },\n",
    "    {\n",
    "        \"query\": \"In 2021, Gill raised Bachan’s first round of capital, after an investor at Prelude Growth Partners realized the company had no institutional backers, yet it had maintained its position as Amazon’s No. 1 selling barbecue sauce.\",\n",
    "        \"company_name\": [\"Prelude Growth Partners\", \"Bachan\"],\n",
    "    }, \n",
    "]\n",
    "example_prompt = PromptTemplate(\n",
    "    input_variables=[\"query\", \"company_name\"], template=\"Query: {query}\\Company Name: {company_name}\"\n",
    ")"
   ]
  },
  {
   "cell_type": "markdown",
   "metadata": {
    "application/vnd.databricks.v1+cell": {
     "cellMetadata": {},
     "inputWidgets": {},
     "nuid": "153bc649-3b83-4653-8f2f-aad289ee4daf",
     "showTitle": false,
     "title": ""
    }
   },
   "source": [
    "## Entity Extraction - Example"
   ]
  },
  {
   "cell_type": "code",
   "execution_count": null,
   "metadata": {
    "application/vnd.databricks.v1+cell": {
     "cellMetadata": {
      "byteLimit": 2048000,
      "rowLimit": 10000
     },
     "inputWidgets": {},
     "nuid": "b475d8c5-1b15-4feb-b7ed-62fe22866493",
     "showTitle": false,
     "title": ""
    }
   },
   "outputs": [],
   "source": [
    "input = \"President Joe Biden said in a somewhat defensive interview with NBC’s Lester Holt on Monday he is back “on the horse” following a shaky debate performance against former President Donald Trump\""
   ]
  },
  {
   "cell_type": "code",
   "execution_count": null,
   "metadata": {
    "application/vnd.databricks.v1+cell": {
     "cellMetadata": {
      "byteLimit": 2048000,
      "rowLimit": 10000
     },
     "inputWidgets": {},
     "nuid": "55b16b5c-aa3c-4970-b050-4876f01d7b9e",
     "showTitle": false,
     "title": ""
    }
   },
   "outputs": [
    {
     "name": "stdout",
     "output_type": "stream",
     "text": [
      "['NBC']\n"
     ]
    }
   ],
   "source": [
    "entity_extraction = EntityExtractionWithLLM(llm, ENTITY_EXTRACTION_EXAMPLES)\n",
    "\n",
    "response = entity_extraction.extract_entities(\n",
    "    input=input, example_prompt=example_prompt, prefix_intructions=EXTRACTION_TEMPLATE\n",
    ")\n",
    "\n",
    "\n",
    "print(response.content)"
   ]
  },
  {
   "cell_type": "markdown",
   "metadata": {
    "application/vnd.databricks.v1+cell": {
     "cellMetadata": {},
     "inputWidgets": {},
     "nuid": "f08f2530-6e14-497d-a0f2-63d07b613760",
     "showTitle": false,
     "title": ""
    }
   },
   "source": [
    "# Assess Credit Risk"
   ]
  },
  {
   "cell_type": "code",
   "execution_count": null,
   "metadata": {
    "application/vnd.databricks.v1+cell": {
     "cellMetadata": {
      "byteLimit": 2048000,
      "rowLimit": 10000
     },
     "inputWidgets": {},
     "nuid": "5de6ec32-f6e8-40f1-b6d5-d8015205e9c8",
     "showTitle": false,
     "title": ""
    }
   },
   "outputs": [],
   "source": [
    "from langchain_core.pydantic_v1 import BaseModel, Field\n",
    "from langchain.output_parsers import PydanticOutputParser\n",
    "\n",
    "class CompanyCreditRisk(BaseModel):\n",
    "    credit_risk_rating: int = Field(..., ge=1, le=10, description=\"Credit risk rating on a scale of 1 to 10\")\n",
    "    justification: str = Field(..., description=\"Justification for the credit risk rating.\")\n",
    "\n",
    "class CreditRiskAssessment(BaseModel):\n",
    "    __root__: Dict[str, CompanyCreditRisk]\n",
    "\n",
    "parser = PydanticOutputParser(pydantic_object=CreditRiskAssessment)\n",
    "\n",
    "template = \"\"\"\n",
    "You are an expert financial analyst specializing in credit risk assessment. Given the following article and all mentioned companies in the article, assess their credit risk on a scale from 1 to 10, where 1 indicates the lowest risk and 10 indicates the highest risk. Provide a brief justification for each rating based on the content of the article.\n",
    "\n",
    "Article:\n",
    "{input}\n",
    "\n",
    "Mentioned companies:\n",
    "{company_name}\n",
    "\n",
    "Format the answer as a valid JSON object where each key is the company name and each value is a dictionary with two keys:\n",
    "- \"credit_risk_rating\": the rating score\n",
    "- \"justification\": text to justify the score\n",
    "\"\"\"\n",
    "\n",
    "prompt = PromptTemplate(\n",
    "    template=template,\n",
    "    input_variables=[\"input\", \"company_name\"],\n",
    ")\n",
    "\n",
    "chain = prompt | llm | parser\n"
   ]
  },
  {
   "cell_type": "markdown",
   "metadata": {},
   "source": [
    "## Assess Credit Risk - Example"
   ]
  },
  {
   "cell_type": "code",
   "execution_count": null,
   "metadata": {
    "application/vnd.databricks.v1+cell": {
     "cellMetadata": {
      "byteLimit": 2048000,
      "rowLimit": 10000
     },
     "inputWidgets": {},
     "nuid": "fa9fcea2-abea-4a66-a136-c3c754f93ce7",
     "showTitle": false,
     "title": ""
    }
   },
   "outputs": [
    {
     "name": "stdout",
     "output_type": "stream",
     "text": [
      "__root__={'NBC': CompanyCreditRisk(credit_risk_rating=2, justification='NBC is mentioned in the context of conducting an interview with President Joe Biden. There is no mention of financial instability, legal issues, or other factors that might indicate a high credit risk. As a well-established media company, NBC likely has a low credit risk.')}\n"
     ]
    }
   ],
   "source": [
    "result = chain.invoke({\"input\": input, \"company_name\": ['NBC']})\n",
    "print(result)"
   ]
  },
  {
   "cell_type": "code",
   "execution_count": null,
   "metadata": {
    "application/vnd.databricks.v1+cell": {
     "cellMetadata": {
      "byteLimit": 2048000,
      "rowLimit": 10000
     },
     "inputWidgets": {},
     "nuid": "694dd341-1f4d-4076-82fe-f2cabf726145",
     "showTitle": false,
     "title": ""
    }
   },
   "outputs": [
    {
     "name": "stdout",
     "output_type": "stream",
     "text": [
      "2\n"
     ]
    }
   ],
   "source": [
    "print(result.__root__['NBC'].credit_risk_rating)"
   ]
  },
  {
   "cell_type": "markdown",
   "metadata": {
    "application/vnd.databricks.v1+cell": {
     "cellMetadata": {},
     "inputWidgets": {},
     "nuid": "ab89431a-85ca-4369-9f9f-8463fb7b754c",
     "showTitle": false,
     "title": ""
    }
   },
   "source": [
    "# Apply to all 400 articles"
   ]
  },
  {
   "cell_type": "code",
   "execution_count": null,
   "metadata": {
    "application/vnd.databricks.v1+cell": {
     "cellMetadata": {
      "byteLimit": 2048000,
      "rowLimit": 10000
     },
     "inputWidgets": {},
     "nuid": "e3f48664-92e7-46c1-8e92-9f75d9a5d46e",
     "showTitle": false,
     "title": ""
    }
   },
   "outputs": [],
   "source": [
    "with open(\"data/task1_json/forbes.json\", \"r\") as file:\n",
    "  forbes_articles = json.load(file)\n",
    "\n",
    "with open(\"data/task1_json/reuters.json\", \"r\") as file:\n",
    "  reuters_articles = json.load(file)"
   ]
  },
  {
   "cell_type": "code",
   "execution_count": null,
   "metadata": {
    "application/vnd.databricks.v1+cell": {
     "cellMetadata": {
      "byteLimit": 2048000,
      "rowLimit": 10000
     },
     "inputWidgets": {},
     "nuid": "b261f700-9f63-47c8-acd5-1e2ab7928f4c",
     "showTitle": false,
     "title": ""
    }
   },
   "outputs": [
    {
     "name": "stdout",
     "output_type": "stream",
     "text": [
      "400\n"
     ]
    }
   ],
   "source": [
    "articles = forbes_articles + reuters_articles\n",
    "print(len(articles))"
   ]
  },
  {
   "cell_type": "code",
   "execution_count": null,
   "metadata": {
    "application/vnd.databricks.v1+cell": {
     "cellMetadata": {
      "byteLimit": 2048000,
      "rowLimit": 10000
     },
     "inputWidgets": {},
     "nuid": "9e7d3a6d-0d0a-4af6-a116-93aec3fd7c6e",
     "showTitle": false,
     "title": ""
    }
   },
   "outputs": [
    {
     "name": "stdout",
     "output_type": "stream",
     "text": [
      "['NBC', 'Forbes', 'RealClearPolitics']\n",
      "__root__={'NBC': CompanyCreditRisk(credit_risk_rating=2, justification='NBC is a well-established media company with a strong reputation. The article mentions that NBC conducted an interview with President Biden, indicating that it continues to have access to high-profile individuals and events. This suggests that NBC is likely to have a stable financial position and therefore a low credit risk.'), 'Forbes': CompanyCreditRisk(credit_risk_rating=2, justification='Forbes is a reputable and well-known media and publishing company. The article mentions Forbes in the context of breaking news alerts and election coverage, suggesting that it continues to be a reliable source of information. This indicates that Forbes likely has a stable financial position and therefore a low credit risk.'), 'RealClearPolitics': CompanyCreditRisk(credit_risk_rating=3, justification='RealClearPolitics is a political news and polling data aggregator. The article mentions that it provides a national head-to-head race poll tracker, indicating that it is a trusted source of political data. While it may not be as well-known or established as NBC or Forbes, its mention in the article suggests that it is likely to have a relatively stable financial position and therefore a moderate credit risk.')}\n",
      "NBC\n",
      "Forbes\n",
      "RealClearPolitics\n",
      "article title: ‘I’m On The Horse’: Biden Defends Himself From Post-Debate Criticisms In NBC Interview, rating: [2, 2, 3]\n",
      "['Tesla', 'Ford', 'GM', 'Stellantis']\n",
      "__root__={'Tesla': CompanyCreditRisk(credit_risk_rating=3, justification=\"The article does not provide specific information about Tesla's financial situation or credit risk. However, given that Tesla is a leading company in the EV market and the article does not mention any significant financial difficulties or setbacks for Tesla, it can be inferred that Tesla's credit risk is relatively low.\"), 'Ford': CompanyCreditRisk(credit_risk_rating=7, justification='Ford has suffered massive losses in the first quarter of 2024 and has had to delay billions of dollars in EV-related investments. They have also scaled back plans to introduce new battery electric car models. These factors indicate a higher credit risk.'), 'GM': CompanyCreditRisk(credit_risk_rating=6, justification='GM has scaled back and revised its EV planning and production due to slowing consumer demand for electric cars. This indicates some financial instability and therefore a moderate to high credit risk.'), 'Stellantis': CompanyCreditRisk(credit_risk_rating=7, justification='Stellantis has announced layoffs and cost-cutting measures in its EV division, indicating financial difficulties and a higher credit risk.')}\n",
      "Tesla\n",
      "Ford\n",
      "GM\n",
      "Stellantis\n",
      "article title: 9 Consequential Energy Predictions - Midyear Review, rating: [3, 7, 6, 7]\n",
      "['Truth Social', 'Turning Point USA']\n",
      "__root__={'Truth Social': CompanyCreditRisk(credit_risk_rating=4, justification='Truth Social is mentioned as the platform where former President Trump announced his running mate, indicating its use and relevance. However, no financial information or performance indicators are provided in the article, making it difficult to accurately assess the credit risk. The association with a high-profile figure like Trump could suggest a lower risk due to potential financial backing and user base, but without more concrete information, a moderate risk rating is given.'), 'Turning Point USA': CompanyCreditRisk(credit_risk_rating=5, justification='Turning Point USA is mentioned in the context of its Executive Director speaking at the Republican National Convention, indicating its involvement in political discourse. However, the article does not provide any financial information or performance indicators for the organization, making it difficult to accurately assess the credit risk. Without more information, a moderate risk rating is given.')}\n",
      "Truth Social\n",
      "Turning Point USA\n",
      "article title: Republican National Convention: Trump Makes Appearance Days After Assassination Attempt, rating: [4, 5]\n",
      "['Wood Mackenzie']\n",
      "__root__={'Wood Mackenzie': CompanyCreditRisk(credit_risk_rating=3, justification=\"Wood Mackenzie appears to be a well-established company with a strong understanding of the energy market and its potential future scenarios. The company is actively involved in analyzing and predicting trends in the energy sector, which suggests a strong strategic position. However, the uncertainty in the energy transition and potential policy changes could pose some risks. The company's focus on low-carbon energy and its potential growth, as well as its ability to adapt to different scenarios, suggests a relatively low credit risk.\")}\n",
      "Wood Mackenzie\n",
      "article title: How November Election Results Could Slow Down The US Energy Transition, rating: [3]\n",
      "[]\n",
      "[]\n",
      "['Bachan', 'Prelude Growth Partners', 'Whole Foods', 'Amazon', 'Walmart', 'Sonoma Brands Capital', 'Facebook', 'McCormick', 'Cholula', 'Heinz', 'Tabasco']\n",
      "__root__={'Bachan': CompanyCreditRisk(credit_risk_rating=2, justification=\"Bachan's has shown strong growth since its launch in 2019, becoming the top-selling barbecue sauce on Amazon and Whole Foods. The company is profitable with estimated annual revenue of $70 million and operating margins of 20%. It has also successfully raised $17 million from investors over two rounds. The company's CEO has stated that the business is 'totally self-sustainable.'\"), 'Prelude Growth Partners': CompanyCreditRisk(credit_risk_rating=2, justification=\"Prelude Growth Partners has shown good judgment in its investment decisions, with its minority stake in Bachan's proving to be a successful venture. This suggests a strong financial position and low credit risk.\"), 'Whole Foods': CompanyCreditRisk(credit_risk_rating=1, justification=\"Whole Foods is a well-established grocery store chain with a strong market presence. Its willingness to experiment with new products, such as Bachan's sauce, suggests a robust financial position and low credit risk.\"), 'Amazon': CompanyCreditRisk(credit_risk_rating=1, justification='Amazon is a global e-commerce giant with a diverse range of revenue streams, making it a low credit risk.'), 'Walmart': CompanyCreditRisk(credit_risk_rating=1, justification='Walmart is the largest retailer in the U.S. with a strong financial position, making it a low credit risk.'), 'Sonoma Brands Capital': CompanyCreditRisk(credit_risk_rating=2, justification=\"Sonoma Brands Capital's investment in Bachan's has proven successful, suggesting a strong financial position and low credit risk.\"), 'Facebook': CompanyCreditRisk(credit_risk_rating=1, justification='Facebook is a global social media giant with a diverse range of revenue streams, making it a low credit risk.'), 'McCormick': CompanyCreditRisk(credit_risk_rating=1, justification='McCormick is a global leader in flavor with a strong financial position, making it a low credit risk.'), 'Cholula': CompanyCreditRisk(credit_risk_rating=2, justification='Cholula was acquired by McCormick for $800 million, suggesting a strong financial position and low credit risk.'), 'Heinz': CompanyCreditRisk(credit_risk_rating=1, justification='Heinz is a well-established food processing company with a strong market presence, making it a low credit risk.'), 'Tabasco': CompanyCreditRisk(credit_risk_rating=1, justification='Tabasco is a well-known hot sauce brand with a strong market presence, making it a low credit risk.')}\n",
      "Bachan\n",
      "Prelude Growth Partners\n",
      "Whole Foods\n",
      "Amazon\n",
      "Walmart\n",
      "Sonoma Brands Capital\n",
      "Facebook\n",
      "McCormick\n",
      "Cholula\n",
      "Heinz\n",
      "Tabasco\n",
      "article title: The Secret Sauce Behind This $350 Million Japanese Barbecue Sauce? Grandma., rating: [2, 2, 1, 1, 1, 2, 1, 1, 2, 1, 1]\n",
      "['General Motors', 'Frigidaire', 'National Cash Register', 'Delco Electronics']\n",
      "__root__={'General Motors': CompanyCreditRisk(credit_risk_rating=3, justification='General Motors is mentioned in the context of a historical perspective, with the author having worked there in the past. The company is still operational and has adapted to changes in the automotive industry, including the shift towards electric vehicles. However, the article does not provide any specific financial information about the company.'), 'Frigidaire': CompanyCreditRisk(credit_risk_rating=5, justification='Frigidaire is mentioned as a historical manufacturing company in Dayton, Ohio. The article does not provide any current financial information about the company, making it difficult to assess its credit risk. However, as a well-known appliance manufacturer, it is assumed to have a moderate level of credit risk.'), 'National Cash Register': CompanyCreditRisk(credit_risk_rating=4, justification='National Cash Register is mentioned as a historical manufacturing company in Dayton, Ohio. The company is still operational and has adapted to changes in the industry, including the shift towards digital payment systems. However, the article does not provide any specific financial information about the company.'), 'Delco Electronics': CompanyCreditRisk(credit_risk_rating=6, justification='Delco Electronics is mentioned as a historical manufacturing company in Dayton, Ohio. The company was a subsidiary of General Motors and was later sold to other companies. The article does not provide any current financial information about the company, making it difficult to assess its credit risk. Given its history and changes in ownership, it is assumed to have a higher level of credit risk.')}\n",
      "General Motors\n",
      "Frigidaire\n",
      "National Cash Register\n",
      "Delco Electronics\n",
      "article title: Nostalgia For Manufacturing Jobs Is Misplaced, rating: [3, 5, 4, 6]\n",
      "['WWE']\n",
      "__root__={'WWE': CompanyCreditRisk(credit_risk_rating=2, justification='WWE appears to be in a stable financial position, with a consistent viewership for its shows. The article mentions that the last broadcast of WWE Raw garnered 1.750 million viewers, indicating a strong and steady audience base. The company also continues to produce new content and storylines, suggesting ongoing operations and revenue generation. However, the company operates in the entertainment industry, which can be subject to fluctuations in popularity and viewership, hence a rating of 2 instead of 1.')}\n",
      "WWE\n",
      "article title: WWE Raw Results, Winners And Grades With Rhea Ripley’s Intense Return, rating: [2]\n",
      "[]\n",
      "[]\n",
      "[]\n",
      "['GoFundMe', 'Citadel', 'Heritage Foundation', 'Daily Wire', 'Griffin Catalyst', 'Citadel Securities', 'Tesla', 'Amazon']\n",
      "__root__={'GoFundMe': CompanyCreditRisk(credit_risk_rating=2, justification='GoFundMe is a well-established platform for crowdfunding and has a solid reputation. The fact that it is being used to raise funds for a high-profile cause suggests it is in a strong financial position.'), 'Citadel': CompanyCreditRisk(credit_risk_rating=2, justification='Citadel is a successful hedge fund firm with a founder worth an estimated $38 billion. The company also has a significant philanthropic presence, suggesting a strong financial position.'), 'Heritage Foundation': CompanyCreditRisk(credit_risk_rating=3, justification='The Heritage Foundation is a well-established conservative think tank. Its donation to the fund suggests it has sufficient funds, but as a non-profit, it may have a slightly higher credit risk than for-profit entities.'), 'Daily Wire': CompanyCreditRisk(credit_risk_rating=4, justification='The Daily Wire is a conservative news website. While it has made a donation to the fund, the financial health of media companies can be volatile, hence a slightly higher credit risk rating.'), 'Griffin Catalyst': CompanyCreditRisk(credit_risk_rating=2, justification='Griffin Catalyst is a philanthropic civic engagement initiative founded by Ken Griffin, a billionaire with significant resources. This suggests a low credit risk.'), 'Citadel Securities': CompanyCreditRisk(credit_risk_rating=2, justification='Citadel Securities is one of the largest market-making firms in the world, responsible for one of every five stock trades in the U.S. This suggests a strong financial position and low credit risk.'), 'Tesla': CompanyCreditRisk(credit_risk_rating=2, justification=\"Tesla is a highly successful company with a strong market presence. Its founder, Elon Musk, is the world's richest person, suggesting a low credit risk.\"), 'Amazon': CompanyCreditRisk(credit_risk_rating=1, justification=\"Amazon is one of the world's largest and most successful companies, suggesting a very low credit risk.\")}\n",
      "GoFundMe\n",
      "Citadel\n",
      "Heritage Foundation\n",
      "Daily Wire\n",
      "Griffin Catalyst\n",
      "Citadel Securities\n",
      "Tesla\n",
      "Amazon\n",
      "article title: Billionaires Elon Musk And Ken Griffin Donate $100,000 Each To Victims Of Trump Rally Shooting, rating: [2, 2, 3, 4, 2, 2, 2, 1]\n",
      "['Bethel Park Skilled Nursing and Rehabilitation Center']\n",
      "__root__={'Bethel Park Skilled Nursing and Rehabilitation Center': CompanyCreditRisk(credit_risk_rating=3, justification=\"The Bethel Park Skilled Nursing and Rehabilitation Center is mentioned in the context of being the employer of Thomas Matthew Crooks. The Center's administrator, Marcie Grimm, stated that Crooks performed his job without concern and his background check was clean. This suggests that the Center has a good hiring process and is able to maintain a stable workforce. However, the incident involving Crooks could potentially lead to some reputational risk for the Center. Overall, the Center's credit risk seems to be relatively low, but the potential reputational risk from the incident could slightly increase their credit risk.\")}\n",
      "Bethel Park Skilled Nursing and Rehabilitation Center\n",
      "article title: Trump Signs Posted Outside Attempted Assassin’s Home, Neighbors Say: What We Know About Thomas Matthew Crooks, rating: [3]\n",
      "['HBO Max']\n",
      "__root__={'HBO Max': CompanyCreditRisk(credit_risk_rating=2, justification=\"HBO Max is mentioned in the context of streaming the documentary 'Faye'. The company is a well-established streaming service with a strong reputation for hosting high-quality content. There is no indication of financial instability or credit risk in the article.\")}\n",
      "HBO Max\n",
      "article title: Director Laurent Bouzereau On The Making Of His Faye Dunaway Documentary: ‘I Wanted To Be Honest And Raw’, rating: [2]\n",
      "['Forbes', 'Republican National Committee', 'Democratic Party', 'UPS', 'Teamsters National Black Caucus', 'AFL-CIO', 'United Auto Workers', 'AFSCME', 'National Education Association', 'Service Employees International Union']\n",
      "__root__={'Forbes': CompanyCreditRisk(credit_risk_rating=2, justification='Forbes is a well-established media company with a strong reputation. The article does not provide any information that would suggest a significant credit risk.'), 'Republican National Committee': CompanyCreditRisk(credit_risk_rating=4, justification='The Republican National Committee is a political organization and its financial stability can be influenced by political factors. However, it has received donations from the Teamsters union, indicating some level of financial support.'), 'Democratic Party': CompanyCreditRisk(credit_risk_rating=4, justification=\"Similar to the Republican National Committee, the Democratic Party's financial stability can be influenced by political factors. It has also received donations from the Teamsters union, indicating some level of financial support.\"), 'UPS': CompanyCreditRisk(credit_risk_rating=3, justification=\"UPS is a large, well-established company with a significant portion of Teamster members as employees. While labor issues could potentially pose a risk, the company's size and market position suggest a relatively low credit risk.\"), 'Teamsters National Black Caucus': CompanyCreditRisk(credit_risk_rating=5, justification=\"The Teamsters National Black Caucus is part of the Teamsters union. Its financial stability could be influenced by the union's decisions and potential labor issues. However, the article does not provide specific information about its financial situation.\"), 'AFL-CIO': CompanyCreditRisk(credit_risk_rating=4, justification='The AFL-CIO is a large labor union. Its financial stability could be influenced by labor issues and political factors. However, it has shown support for Biden, suggesting alignment with a major political party.'), 'United Auto Workers': CompanyCreditRisk(credit_risk_rating=4, justification='The United Auto Workers is a large labor union. Its financial stability could be influenced by labor issues and political factors. However, it has shown support for Biden, suggesting alignment with a major political party.'), 'AFSCME': CompanyCreditRisk(credit_risk_rating=4, justification='AFSCME is a large labor union. Its financial stability could be influenced by labor issues and political factors. However, it has shown support for Biden, suggesting alignment with a major political party.'), 'National Education Association': CompanyCreditRisk(credit_risk_rating=4, justification='The National Education Association is a large labor union. Its financial stability could be influenced by labor issues and political factors. However, it has shown support for Biden, suggesting alignment with a major political party.'), 'Service Employees International Union': CompanyCreditRisk(credit_risk_rating=4, justification='The Service Employees International Union is a large labor union. Its financial stability could be influenced by labor issues and political factors. However, it has shown support for Biden, suggesting alignment with a major political party.')}\n",
      "Forbes\n",
      "Republican National Committee\n",
      "Democratic Party\n",
      "UPS\n",
      "Teamsters National Black Caucus\n",
      "AFL-CIO\n",
      "United Auto Workers\n",
      "AFSCME\n",
      "National Education Association\n",
      "Service Employees International Union\n",
      "article title: ‘Not Beholden To Any Party’: Here’s Why Teamsters Union Boss Sean O’Brien Spoke At RNC, rating: [2, 4, 4, 3, 5, 4, 4, 4, 4, 4]\n",
      "[]\n",
      "[]\n",
      "['Eli Lilly', 'Novo Nordisk', 'Zealand Pharma', 'Boehringer Ingelheim', 'Viking Therapeutics', 'Terns Pharmaceuticals', 'Structure Therapeutics', 'Altimmune', 'Pfizer', 'Amgen', 'Roche', 'Carmot Therapeutics', 'AstraZeneca', 'Eccogene']\n",
      "__root__={'Eli Lilly': CompanyCreditRisk(credit_risk_rating=2, justification=\"Eli Lilly is a well-established company with a successful weight loss drug, Zepbound, on the market. They are also working on new drugs and have secured approval for Zepbound. Despite supply issues, the company's strong position and ongoing development efforts suggest a low credit risk.\"), 'Novo Nordisk': CompanyCreditRisk(credit_risk_rating=2, justification='Novo Nordisk is a dominant player in the weight loss drug market with successful drugs like Ozempic, Wegovy, and Mounjaro. They are also developing new drugs and have a strong market position, suggesting a low credit risk despite supply issues.'), 'Zealand Pharma': CompanyCreditRisk(credit_risk_rating=5, justification='Zealand Pharma is a biotech company preparing to challenge Novo with new drugs. While they have shown strong results in mid-stage clinical trials, the company is still in the development phase and has not yet brought a product to market, suggesting a moderate credit risk.'), 'Boehringer Ingelheim': CompanyCreditRisk(credit_risk_rating=4, justification='Boehringer Ingelheim is a well-established pharmaceutical company jointly developing a drug with Zealand Pharma. While the drug has shown promise in mid-stage trials, it is not yet on the market, suggesting a moderate credit risk.'), 'Viking Therapeutics': CompanyCreditRisk(credit_risk_rating=6, justification='Viking Therapeutics is a San Diego-based company that has shown promising data from a mid-stage trial of its experimental drug. However, the drug is not yet on the market and the company is still in the development phase, suggesting a higher credit risk.'), 'Terns Pharmaceuticals': CompanyCreditRisk(credit_risk_rating=7, justification='Terns Pharmaceuticals is developing an oral weight loss drug and expects to release data from an early stage trial in 2024. The company is still in the early stages of development, suggesting a high credit risk.'), 'Structure Therapeutics': CompanyCreditRisk(credit_risk_rating=6, justification='Structure Therapeutics is a startup working on an oral GLP-1 drug that has shown promise in mid-stage trials. However, the company is still in the development phase and has not yet brought a product to market, suggesting a higher credit risk.'), 'Altimmune': CompanyCreditRisk(credit_risk_rating=6, justification='Altimmune is a Maryland-based company that has shown promising results for its injectable weight-loss drug in mid-stage trials. However, the company is still in the development phase and is actively looking for a global partner, suggesting a higher credit risk.'), 'Pfizer': CompanyCreditRisk(credit_risk_rating=3, justification=\"Pfizer is a well-established pharmaceutical giant that has scrapped two experimental weight loss pills but is pushing ahead with another. Despite setbacks, the company's size and determination to break into the obesity space suggest a low to moderate credit risk.\"), 'Amgen': CompanyCreditRisk(credit_risk_rating=3, justification=\"Amgen is a large biotech company that has ditched plans for an experimental weight loss pill but is still hoping for a slice of the market with another drug. Despite setbacks, the company's size and ongoing development efforts suggest a low to moderate credit risk.\"), 'Roche': CompanyCreditRisk(credit_risk_rating=2, justification='Roche is a well-established pharmaceutical company that has made a significant investment in the weight loss drug market by acquiring Carmot Therapeutics. This suggests a low credit risk.'), 'Carmot Therapeutics': CompanyCreditRisk(credit_risk_rating=4, justification='Carmot Therapeutics is a weight loss drug developer that has been acquired by Roche. While the company has a promising drug in development, it is not yet on the market, suggesting a moderate credit risk.'), 'AstraZeneca': CompanyCreditRisk(credit_risk_rating=2, justification='AstraZeneca is a well-established pharmaceutical company that has made a significant investment in the weight loss drug market by acquiring an experimental pill from Eccogene. This suggests a low credit risk.'), 'Eccogene': CompanyCreditRisk(credit_risk_rating=5, justification='Eccogene is a Chinese firm that has developed an experimental pill acquired by AstraZeneca. While the company has a promising drug in development, it is not yet on the market, suggesting a moderate credit risk.')}\n",
      "Eli Lilly\n",
      "Novo Nordisk\n",
      "Zealand Pharma\n",
      "Boehringer Ingelheim\n",
      "Viking Therapeutics\n",
      "Terns Pharmaceuticals\n",
      "Structure Therapeutics\n",
      "Altimmune\n",
      "Pfizer\n",
      "Amgen\n",
      "Roche\n",
      "Carmot Therapeutics\n",
      "AstraZeneca\n",
      "Eccogene\n",
      "article title: Ozempic And Wegovy Rivals: Here Are The Companies Working On Competitor Weight Loss Drugs, rating: [2, 2, 5, 4, 6, 7, 6, 6, 3, 3, 2, 4, 2, 5]\n",
      "['Anantara Rasananda', 'Tourism Authority of Thailand']\n",
      "__root__={'Anantara Rasananda': CompanyCreditRisk(credit_risk_rating=3, justification='Anantara Rasananda, a resort in Thailand, is mentioned in a positive context in the article. The resort is depicted as a desirable vacation destination, which suggests a healthy business. However, the article does not provide specific financial information about the resort, so a low risk rating is given based on the positive mention and the general health of the tourism industry in Thailand.'), 'Tourism Authority of Thailand': CompanyCreditRisk(credit_risk_rating=2, justification='The Tourism Authority of Thailand is mentioned in the context of setting ambitious targets for attracting tourists, and achieving a slight increase in international tourists compared to the previous year. This suggests that the organization is functioning effectively and contributing to the growth of the tourism industry in Thailand. However, the article does not provide specific financial information about the organization, so a low risk rating is given based on the positive mention and the general health of the tourism industry in Thailand.')}\n",
      "Anantara Rasananda\n",
      "Tourism Authority of Thailand\n",
      "article title: How Leaders Leverage Vacations, rating: [3, 2]\n",
      "['FX', 'Netflix', 'Disney', 'Hulu', 'ABC', 'Fox', 'Warner Bros. Studios', 'NBC', 'MoffettNathanson', 'Apple', 'Amazon', 'Warner Bros. Discovery', 'Wedbush Securities']\n",
      "__root__={'FX': CompanyCreditRisk(credit_risk_rating=3, justification='FX has a successful show, The Bear, which is generating significant revenue. However, the changing landscape of the TV industry and the shift towards streaming services could impact future profitability.'), 'Netflix': CompanyCreditRisk(credit_risk_rating=2, justification='Netflix has a strong market presence and has been successful in attracting top talent with high upfront fees. However, the shift away from back-end buyouts and the rise of advertising on streaming platforms could impact future profitability.'), 'Disney': CompanyCreditRisk(credit_risk_rating=2, justification='Disney has a diverse portfolio of brands and has introduced a new co\n",
      "\n",
      "*** WARNING: max output size exceeded, skipping output. ***\n",
      "\n",
      "ates the bank is aware of potential risks and is actively considering the implications of policy decisions, which may reduce its credit risk.\"), 'Algemene Bank Nederland NV': CompanyCreditRisk(credit_risk_rating=3, justification=\"Algemene Bank Nederland NV (ABN) supports the Central Bank's policy, indicating a conservative approach to risk. The bank's director-general notes that past decisions not to revalue the guilder fully with the mark in the EMS hurt confidence in the Dutch currency, suggesting the bank is mindful of the impact of such decisions on market confidence and its own credit risk.\")}\n",
      "Amsterdam-Rotterdam Bank NV\n",
      "Rabobank Nederland\n",
      "Algemene Bank Nederland NV\n",
      "article title: ECONOMIC SPOTLIGHT - DUTCH EXCHANGE RATE POLICY, rating: [4, 4, 3]\n",
      "['Bank of Spain']\n",
      "__root__={'Bank of Spain': CompanyCreditRisk(credit_risk_rating=4, justification='The Bank of Spain has suspended its daily money market assistance due to high borrower demand, indicating a potential strain on its liquidity. However, it has managed to provide a record high assistance of 1,145 billion pesetas this year, showing its ability to meet financial obligations. The bank has also raised its rates to 16 pct from 14 pct, which could potentially increase its income. The suspension is likely to remain in effect until April 3, suggesting a temporary measure rather than a long-term issue.')}\n",
      "Bank of Spain\n",
      "article title: BANK OF SPAIN SUSPENDS ASSISTANCE, rating: [4]\n",
      "['Bank of England']\n",
      "__root__={'Bank of England': CompanyCreditRisk(credit_risk_rating=2, justification='The Bank of England has shown its ability to provide substantial assistance to the money market, indicating strong financial stability. Although there was a shortage in the system, the bank was able to revise its estimates and provide a significant portion of the required funds. This suggests a low credit risk.')}\n",
      "Bank of England\n",
      "article title: U.K. MONEY MARKET GIVEN 265 MLN STG ASSISTANCE, rating: [2]\n",
      "['Bank of Japan']\n",
      "__root__={'Bank of Japan': CompanyCreditRisk(credit_risk_rating=3, justification='The Bank of Japan is actively intervening in the market to maintain the value of the dollar against the yen. This indicates that the bank has sufficient resources to influence the market, suggesting a low credit risk. However, the fact that it had to intervene multiple times due to selling pressure from an investment trust indicates some level of risk, hence the rating is not the lowest possible.')}\n",
      "Bank of Japan\n",
      "article title: BANK OF JAPAN INTERVENES TO STEM DOLLAR FALL, rating: [3]\n",
      "['Bank of France', 'Bank of Japan']\n",
      "__root__={'Bank of France': CompanyCreditRisk(credit_risk_rating=2, justification='The Bank of France has been actively intervening in the foreign exchange market to stabilize the dollar. This indicates that the bank has sufficient resources to influence the market, suggesting a low credit risk.'), 'Bank of Japan': CompanyCreditRisk(credit_risk_rating=2, justification='Similar to the Bank of France, the Bank of Japan has also intervened in the market to stabilize the dollar. This suggests that the bank is financially stable and has a low credit risk.')}\n",
      "Bank of France\n",
      "Bank of Japan\n",
      "article title: BANK OF FRANCE AGAIN BUYING DOLLARS, SOURCES SAY, rating: [2, 2]\n",
      "['Bundesbank', 'Bank of France']\n",
      "__root__={'Bundesbank': CompanyCreditRisk(credit_risk_rating=2, justification=\"The Bundesbank is actively participating in the open market, buying dollars against yen. Although the intervention was for fairly small amounts, it shows that the bank is actively managing its currency risk. The bank's activity on Wednesday, where it bought about 100 mln dlrs, also indicates a strong financial position.\"), 'Bank of France': CompanyCreditRisk(credit_risk_rating=2, justification='The Bank of France is working in concert with the Bundesbank to buy dollars against yen in the open market. This indicates that the bank is also actively managing its currency risk, which suggests a strong financial position.')}\n",
      "Bundesbank\n",
      "Bank of France\n",
      "article title: BUNDESBANK BOUGHT DOLLARS AGAINST YEN, DEALERS SAY, rating: [2, 2]\n",
      "[]\n",
      "['BANK OF FRANCE']\n",
      "__root__={'BANK OF FRANCE': CompanyCreditRisk(credit_risk_rating=2, justification='The article does not provide any negative information about the Bank of France. The bank is actively participating in the market by buying dollars, which indicates a normal operation and financial activity. As a central bank, it also has a high level of creditworthiness.')}\n",
      "BANK OF FRANCE\n",
      "article title: BANK OF FRANCE BUYS DOLLARS AT PARIS FIXING - DEALERS, rating: [2]\n",
      "['Swiss National Bank', 'Bank of France', 'Bundesbank', 'Bank of Japan', 'U.S. Federal Reserve']\n",
      "__root__={'Swiss National Bank': CompanyCreditRisk(credit_risk_rating=2, justification='The Swiss National Bank is actively managing its currency risk by buying dollars against yen. The amount of purchase is described as modest, indicating a conservative approach to risk management.'), 'Bank of France': CompanyCreditRisk(credit_risk_rating=3, justification='The Bank of France is also buying dollars against yen and making inquiries with Swiss banks. This suggests a proactive approach to managing currency risk, although the exact scale of their intervention is not clear.'), 'Bundesbank': CompanyCreditRisk(credit_risk_rating=3, justification='The Bundesbank has also intervened in the currency market, suggesting a proactive approach to risk management. However, the details of their intervention are not provided.'), 'Bank of Japan': CompanyCreditRisk(credit_risk_rating=4, justification='The Bank of Japan has made significant dollar purchases, indicating a high level of exposure to currency risk. However, it appears to be managing this risk proactively, even asking Japanese companies not to sell dollars at this point.'), 'U.S. Federal Reserve': CompanyCreditRisk(credit_risk_rating=3, justification=\"The market expects the U.S. Federal Reserve to intervene in support of the dollar, suggesting that it is actively managing its currency risk. However, the expected intervention is described as 'half-hearted', indicating a potentially less proactive approach to risk management.\")}\n",
      "Swiss National Bank\n",
      "Bank of France\n",
      "Bundesbank\n",
      "Bank of Japan\n",
      "U.S. Federal Reserve\n",
      "article title: SWISS NATIONAL BANK SAYS IT BOUGHT DOLLARS, rating: [2, 3, 3, 4, 3]\n",
      "['Bank of England']\n",
      "__root__={'Bank of England': CompanyCreditRisk(credit_risk_rating=2, justification='The Bank of England has shown its ability to provide significant financial assistance to the money market, indicating a strong financial position. It has provided a total of 928 mln stg in assistance, which is more than its forecasted shortage. This suggests that the bank has a low credit risk due to its financial stability and ability to exceed its financial commitments.')}\n",
      "Bank of England\n",
      "article title: U.K. MONEY MARKET GIVEN FURTHER 663 MLN STG HELP, rating: [2]\n",
      "['Austrian National Bank', 'Creditanstalt', 'Girozentrale']\n",
      "__root__={'Austrian National Bank': CompanyCreditRisk(credit_risk_rating=2, justification=\"The Austrian National Bank is not intervening in the foreign exchange markets to support the dollar, indicating a stable financial position and a low risk of credit default. The bank's actions are also transparent, as they have openly denied any suggestions of intervention.\"), 'Creditanstalt': CompanyCreditRisk(credit_risk_rating=3, justification=\"Creditanstalt, as one of Austria's largest banks, would have been aware of any National Bank intervention. The fact that they are not reporting any such intervention suggests that they are in a stable financial position and have a low risk of credit default.\"), 'Girozentrale': CompanyCreditRisk(credit_risk_rating=3, justification='Girozentrale, like Creditanstalt, would have been aware of any National Bank intervention. Their lack of reporting on any such intervention suggests that they too are in a stable financial position and have a low risk of credit default.')}\n",
      "Austrian National Bank\n",
      "Creditanstalt\n",
      "Girozentrale\n",
      "article title: AUSTRIA DOES NOT INTERVENE TO SUPPORT DOLLAR, rating: [2, 3, 3]\n",
      "['New York Federal Reserve Bank', 'Bank of Japan']\n",
      "__root__={'New York Federal Reserve Bank': CompanyCreditRisk(credit_risk_rating=1, justification='The New York Federal Reserve Bank, being a part of the Federal Reserve System, has a very low credit risk. In this article, it is mentioned that the bank has intervened in the foreign exchange market, which indicates its active role in maintaining financial stability.'), 'Bank of Japan': CompanyCreditRisk(credit_risk_rating=1, justification='The Bank of Japan, as the central bank of Japan, also has a very low credit risk. The article mentions the possibility of the Bank of Japan being involved in the foreign exchange market intervention, which shows its active role in the financial market.')}\n",
      "New York Federal Reserve Bank\n",
      "Bank of Japan\n",
      "article title: DEALERS SAY FED INTERVENED BUYING DOLLARS IN U.S., rating: [1, 1]\n",
      "['Federal Reserve']\n",
      "__root__={'Federal Reserve': CompanyCreditRisk(credit_risk_rating=1, justification='The Federal Reserve, being the central bank of the United States, has the lowest credit risk. It has the ability to supply reserves to the banking system, indicating strong financial stability and low credit risk.')}\n",
      "Federal Reserve\n",
      "article title: FED ADDS RESERVES VIA CUSTOMER REPURCHASES, rating: [1]\n",
      "['Maison Placements Canada Inc.', 'Brown Baldwin Nisker Ltd', 'Yorkton Securities', 'ASA Ltd', 'Campbell Red Lake Mines', 'Newmont Gold', 'Hemlo Gold', 'LAC Minerals', 'Placer Development', 'Lacana Mining']\n",
      "__root__={'Maison Placements Canada Inc.': CompanyCreditRisk(credit_risk_rating=3, justification='Maison Placements Canada Inc. is benefiting from the current economic climate, with the weakness of the U.S. dollar leading to a rise in gold prices. The company predicts inflation to rise, which could further increase the price of gold.'), 'Brown Baldwin Nisker Ltd': CompanyCreditRisk(credit_risk_rating=3, justification=\"Brown Baldwin Nisker Ltd is also benefiting from the current economic climate. The company notes that foreign investors are moving back into gold due to the declining dollar, which could increase demand for gold and boost the company's profits.\"), 'Yorkton Securities': CompanyCreditRisk(credit_risk_rating=3, justification='Yorkton Securities is in a similar position, with the company predicting an average gold price of 450 dlrs, with a possible spike above 500 dlrs. This indicates a positive outlook for the company.'), 'ASA Ltd': CompanyCreditRisk(credit_risk_rating=2, justification=\"ASA Ltd's share prices have risen significantly, indicating a strong financial position. However, the rapid rise in gold stocks could indicate a future correction.\"), 'Campbell Red Lake Mines': CompanyCreditRisk(credit_risk_rating=2, justification='Campbell Red Lake Mines has also seen a rise in share prices, indicating a strong financial position. However, the rapid rise in gold stocks could indicate a future correction.'), 'Newmont Gold': CompanyCreditRisk(credit_risk_rating=2, justification=\"Newmont Gold's share prices have increased, indicating a strong financial position. However, the rapid rise in gold stocks could indicate a future correction.\"), 'Hemlo Gold': CompanyCreditRisk(credit_risk_rating=2, justification=\"Hemlo Gold's share prices have increased, indicating a strong financial position. However, the rapid rise in gold stocks could indicate a future correction.\"), 'LAC Minerals': CompanyCreditRisk(credit_risk_rating=2, justification=\"LAC Minerals' share prices have increased, indicating a strong financial position. However, the rapid rise in gold stocks could indicate a future correction.\"), 'Placer Development': CompanyCreditRisk(credit_risk_rating=2, justification=\"Placer Development's share prices have increased, indicating a strong financial position. However, the rapid rise in gold stocks could indicate a future correction.\"), 'Lacana Mining': CompanyCreditRisk(credit_risk_rating=2, justification=\"Lacana Mining's share prices have increased, indicating a strong financial position. However, the rapid rise in gold stocks could indicate a future correction.\")}\n",
      "Maison Placements Canada Inc.\n",
      "Brown Baldwin Nisker Ltd\n",
      "Yorkton Securities\n",
      "ASA Ltd\n",
      "Campbell Red Lake Mines\n",
      "Newmont Gold\n",
      "Hemlo Gold\n",
      "LAC Minerals\n",
      "Placer Development\n",
      "Lacana Mining\n",
      "article title: TALKING POINT/GOLD, rating: [3, 3, 3, 2, 2, 2, 2, 2, 2, 2]\n",
      "['First Commercial Bank']\n",
      "__root__={'First Commercial Bank': CompanyCreditRisk(credit_risk_rating=2, justification=\"First Commercial Bank is operating in an environment where the government is taking steps to relax foreign exchange controls, which could potentially increase the bank's ability to engage in international transactions. Furthermore, Taiwan's surging foreign exchange reserves and trade surplus, largely from trade with the United States, indicate a strong economic environment. The bank's Vice President, Ko Fei-Lo, also expressed a positive outlook on these changes, suggesting that the bank is well-positioned to adapt to these changes. However, the exact impact of these changes on the bank's operations is not detailed in the article.\")}\n",
      "First Commercial Bank\n",
      "article title: TAIWAN TO STUDY SUSPENDING FOREX CONTROLS, rating: [2]\n",
      "['Morgan Guaranty Trust Co', 'Arab Bankers Association']\n",
      "__root__={'Morgan Guaranty Trust Co': CompanyCreditRisk(credit_risk_rating=3, justification='Morgan Guaranty Trust Co is a leading financial institution with a worldwide treasurer who is actively involved in global financial discussions. Despite the predicted fall of the dollar, the company seems to have a solid understanding of the situation and is likely to have strategies in place to mitigate potential risks. However, the continued depreciation of the dollar and the U.S. trade deficit could pose some risk.'), 'Arab Bankers Association': CompanyCreditRisk(credit_risk_rating=4, justification='The Arab Bankers Association is actively involved in discussions about the role of Arab banks in world financial markets. The president of the association has acknowledged the need for Arab banks to adapt to new global trends, indicating a proactive approach to managing risk. However, the need for a shift from commercial banking to investment banking could indicate some level of risk as this transition may not be smooth.')}\n",
      "Morgan Guaranty Trust Co\n",
      "Arab Bankers Association\n",
      "article title: U.S. BANKER PREDICTS FURTHER DOLLAR FALL THIS YEAR, rating: [3, 4]\n",
      "[]\n",
      "['Bank of China']\n",
      "__root__={'Bank of China': CompanyCreditRisk(credit_risk_rating=4, justification=\"The Bank of China's credit risk is relatively low. The bank's president, Wang Deyan, has shown an understanding of the current currency situation, indicating that the Foreign Exchange Certificates (FECs) are unlikely to be scrapped this year. This suggests that the bank is aware of the potential risks and is prepared for them. However, the ongoing uncertainty about the future of FECs and the potential for a black market in the currency could pose some risk to the bank.\")}\n",
      "Bank of China\n",
      "article title: CHINA POSTPONES PLAN TO SCRAP PARALLEL CURRENCY, rating: [4]\n",
      "['Arab Bankers Association']\n",
      "__root__={'Arab Bankers Association': CompanyCreditRisk(credit_risk_rating=6, justification='The Arab Bankers Association is operating in a region where the financial markets are still in their infancy, with a lack of experience among Arab banks, a paucity of financial instruments and a legal framework that often does not recognise the western banking concept of interest. These factors could potentially increase the credit risk. However, the association is actively involved in discussions to unify the currency system in the Gulf region, which could potentially stabilize exchange rates and foster regional trade, reducing the credit risk in the long term.')}\n",
      "Arab Bankers Association\n",
      "article title: ARAB BANKER SAYS TOO SOON FOR SINGLE CURRENCY, rating: [6]\n",
      "[]\n",
      "['Burgan Bank', 'Beirut Riyad Bank', 'Banque Internationale Arabe de Tunis', 'Societe Bancaire du Liban', 'Morgan Guaranty Trust Co of New York', 'Saudi National Commercial Bank', 'Finance and Credit Corp of Jordan']\n",
      "__root__={'Burgan Bank': CompanyCreditRisk(credit_risk_rating=3, justification=\"The bank's credit risk is relatively low as it is led by the newly elected chairman of the Inter-Arab Cambist Association (ICA), indicating a strong leadership and recognition in the industry.\"), 'Beirut Riyad Bank': CompanyCreditRisk(credit_risk_rating=4, justification=\"The bank's credit risk is moderate. Although its representative has been succeeded as the chairman of the ICA, it still indicates that the bank has a strong presence in the industry.\"), 'Banque Internationale Arabe de Tunis': CompanyCreditRisk(credit_risk_rating=4, justification=\"The bank's credit risk is moderate. The election of its representative as a Vice-Chairman of the ICA indicates a strong leadership and recognition in the industry.\"), 'Societe Bancaire du Liban': CompanyCreditRisk(credit_risk_rating=4, justification=\"The bank's credit risk is moderate. The election of its representative as a Vice-Chairman of the ICA indicates a strong leadership and recognition in the industry.\"), 'Morgan Guaranty Trust Co of New York': CompanyCreditRisk(credit_risk_rating=3, justification=\"The bank's credit risk is relatively low. The election of its representative as a Vice-Chairman of the ICA indicates a strong leadership and recognition in the industry.\"), 'Saudi National Commercial Bank': CompanyCreditRisk(credit_risk_rating=3, justification=\"The bank's credit risk is relatively low. The election of its representative as a Secretary of the ICA indicates a strong leadership and recognition in the industry.\"), 'Finance and Credit Corp of Jordan': CompanyCreditRisk(credit_risk_rating=4, justification=\"The bank's credit risk is moderate. The election of its representative as a Treasurer of the ICA indicates a strong leadership and recognition in the industry.\")}\n",
      "Burgan Bank\n",
      "Beirut Riyad Bank\n",
      "Banque Internationale Arabe de Tunis\n",
      "Societe Bancaire du Liban\n",
      "Morgan Guaranty Trust Co of New York\n",
      "Saudi National Commercial Bank\n",
      "Finance and Credit Corp of Jordan\n",
      "article title: ARAB FOREX ASSOCIATION ELECTS NEW CHAIRMAN, rating: [3, 4, 4, 4, 3, 3, 4]\n",
      "[]\n",
      "[]\n",
      "['Bank of Japan']\n",
      "__root__={'Bank of Japan': CompanyCreditRisk(credit_risk_rating=2, justification='The Bank of Japan has shown significant financial strength by purchasing one billion dollars in morning intervention. This indicates a strong financial position and low credit risk.')}\n",
      "Bank of Japan\n",
      "article title: BANK OF JAPAN ALREADY PURCHASED ONE BILLION DLRS IN MORNING INTERVENTION - DEALERS, rating: [2]\n",
      "['Bank of Japan']\n",
      "__root__={'Bank of Japan': CompanyCreditRisk(credit_risk_rating=2, justification='The Bank of Japan is showing strong financial capabilities by purchasing more than one billion dollars in intervention to support the U.S. currency against the yen. This indicates a low credit risk as the bank is able to manage large financial transactions and maintain currency stability.')}\n",
      "Bank of Japan\n",
      "article title: JAPAN CENTRAL BANK BUYS ONE BILLION DLRS IN TOKYO, rating: [2]\n",
      "['Bank of Japan']\n",
      "__root__={'Bank of Japan': CompanyCreditRisk(credit_risk_rating=2, justification=\"The Bank of Japan is showing a proactive approach towards stabilizing exchange rates and is closely monitoring the situation. The governor's confidence in the dollar not continuing to fall due to the rapid rise of the yen indicates a strong understanding of the market dynamics. This suggests a low credit risk for the Bank of Japan.\")}\n",
      "Bank of Japan\n",
      "article title: SUMITA SAYS HE DOES NOT EXPECT FURTHER DOLLAR FALL, rating: [2]\n",
      "[]\n",
      "['Bank of Japan']\n",
      "__root__={'Bank of Japan': CompanyCreditRisk(credit_risk_rating=2, justification='The Bank of Japan appears to be in a stable financial position, with the governor expressing confidence in their monetary policy and ability to manage inflation. The bank has also been proactive in easing credit conditions through five discount rate cuts since the beginning of the previous year. However, the sharp fall of the dollar and the potential for a trade imbalance to continue expanding could pose some risk, hence the rating is not at the absolute lowest.')}\n",
      "Bank of Japan\n",
      "article title: JAPAN CAREFULLY CONSIDERING MONEY POLICY -- SUMITA, rating: [2]\n",
      "[]\n",
      "['General Motors', 'Shearson Lehman Brothers', 'Cable and Wireless']\n",
      "__root__={'General Motors': CompanyCreditRisk(credit_risk_rating=3, justification=\"General Motors is a large, established company with a strong presence in the global market. Despite the trade tensions between the U.S. and Japan, the company's diversified operations and strong market position mitigate its credit risk. However, the potential for increased tariffs on Japanese exports to the U.S. could impact the company's supply chain and increase costs.\"), 'Shearson Lehman Brothers': CompanyCreditRisk(credit_risk_rating=4, justification=\"Shearson Lehman Brothers, as a financial services firm, may face some risk due to the potential for increased economic instability and trade tensions between Japan and other countries. However, the firm's diversified operations and strong market position help to mitigate this risk.\"), 'Cable and Wireless': CompanyCreditRisk(credit_risk_rating=6, justification=\"Cable and Wireless faces a higher credit risk due to the potential for increased trade tensions between the UK and Japan. The company's bid to join a domestic telecommunications joint venture in Japan has been met with restrictive conditions, which could impact the company's growth prospects and financial stability.\")}\n",
      "General Motors\n",
      "Shearson Lehman Brothers\n",
      "Cable and Wireless\n",
      "article title: JAPAN ISOLATED, YEN RISES, WORLD FEELS CHEATED, rating: [3, 4, 6]\n",
      "['Morgan Guaranty Trust']\n",
      "__root__={'Morgan Guaranty Trust': CompanyCreditRisk(credit_risk_rating=3, justification='The article does not provide any specific financial information about Morgan Guaranty Trust, but it does mention that one of its employees, P.S. Tam, is knowledgeable about the current currency situation and is providing analysis on it. This suggests that the company is actively involved in the financial market and has expertise in it, which could indicate a lower credit risk.')}\n",
      "Morgan Guaranty Trust\n",
      "article title: H.K. DEALERS SAY NAKASONE G-6 COMMENT TOO LATE, rating: [3]\n",
      "['Bahrain Monetary Agency']\n",
      "__root__={'Bahrain Monetary Agency': CompanyCreditRisk(credit_risk_rating=2, justification=\"The Bahrain Monetary Agency is introducing a new domestic money market regime to provide dinar liquidity aid, which indicates a proactive approach to managing liquidity risk. The agency has also launched a treasury bill program and has successfully raised a total of 26 million dinars through the program. This suggests that the agency has a strong ability to raise funds, which reduces its credit risk. Furthermore, the agency's new policy of providing liquidity aid through sale and repurchase agreements in treasury bills or through discounting them is expected to be more effective and efficient than the current system. This further reduces the agency's credit risk.\")}\n",
      "Bahrain Monetary Agency\n",
      "article title: BAHRAIN INTRODUCES NEW MONEY MARKET REGIME, rating: [2]\n",
      "['Bank of England']\n",
      "__root__={'Bank of England': CompanyCreditRisk(credit_risk_rating=2, justification=\"The Bank of England is forecasting a liquidity surplus of around 100 million stg in the money market today. This indicates that the bank is in a strong financial position with more assets than liabilities. The main factors affecting liquidity, such as exchequer transactions, a fall in note circulation, and bankers' balances above target, are all adding to the system, further strengthening the bank's financial position. Although there are some outflows, such as bills for repurchase by the market and bills maturing in official hands, these are being more than offset by the inflows.\")}\n",
      "Bank of England\n",
      "article title: BANK OF ENGLAND FORECASTS SURPLUS IN MONEY MARKET, rating: [2]\n",
      "['Bank Indonesia', 'World Bank']\n",
      "__root__={'Bank Indonesia': CompanyCreditRisk(credit_risk_rating=6, justification=\"Bank Indonesia is facing a challenging situation with the Indonesian rupiah slipping against the mark and the yen. This has increased the country's debt servicing levels, indicating a higher credit risk. However, the rupiah has held steady against the dollar, which is the main currency for Indonesia's oil and gas exports, mitigating some of the risk.\"), 'World Bank': CompanyCreditRisk(credit_risk_rating=2, justification=\"The World Bank is mentioned in the context of estimating Indonesia's foreign debt, but there is no direct information in the article that would suggest a significant credit risk for the World Bank itself.\")}\n",
      "Bank Indonesia\n",
      "World Bank\n",
      "article title: INDONESIAN RUPIAH SLIPS AGAINST MARK AND YEN, rating: [6, 2]\n"
     ]
    }
   ],
   "source": [
    "entity_extraction = EntityExtractionWithLLM(llm, ENTITY_EXTRACTION_EXAMPLES)\n",
    "articles_with_rating = []\n",
    "\n",
    "for article in articles:\n",
    "  input = article['content']\n",
    "\n",
    "  # extract entities\n",
    "  response = entity_extraction.extract_entities(\n",
    "    input=input, example_prompt=example_prompt, prefix_intructions=EXTRACTION_TEMPLATE\n",
    "  )\n",
    "  company_name = response.content\n",
    "  print(company_name)\n",
    "\n",
    "  # assess credit risk if company name exists in article\n",
    "  if company_name != [] and company_name != '[]':\n",
    "    result = chain.invoke({\"input\": input, \"company_name\": company_name})\n",
    "    print(result)\n",
    "\n",
    "    companies = []\n",
    "    ratings = []\n",
    "    justifications = []\n",
    "\n",
    "    for company, risk in result.__root__.items():\n",
    "      companies.append(company)\n",
    "      ratings.append(risk.credit_risk_rating)\n",
    "      justifications.append(risk.justification)\n",
    "    article['companies'] = companies\n",
    "    article['credit_risk_rating'] = ratings\n",
    "    article['justification'] = justifications\n",
    "    print(f\"article title: {article['title']}, rating: {article['credit_risk_rating']}\")\n",
    "  \n",
    "  else:\n",
    "    article['companies'] = []\n",
    "  articles_with_rating.append(article)\n"
   ]
  },
  {
   "cell_type": "code",
   "execution_count": null,
   "metadata": {
    "application/vnd.databricks.v1+cell": {
     "cellMetadata": {
      "byteLimit": 2048000,
      "rowLimit": 10000
     },
     "inputWidgets": {},
     "nuid": "6a11624a-7aef-4b3f-8d94-5108fd2860ad",
     "showTitle": false,
     "title": ""
    }
   },
   "outputs": [],
   "source": [
    "with open('data/task2/articles_with_rating.json', 'w', encoding='utf-8') as f:\n",
    "  json.dump(articles_with_rating, f, indent=4)"
   ]
  }
 ],
 "metadata": {
  "application/vnd.databricks.v1+notebook": {
   "dashboards": [],
   "environmentMetadata": null,
   "language": "python",
   "notebookMetadata": {
    "pythonIndentUnit": 2
   },
   "notebookName": "entity_extraction",
   "widgets": {}
  },
  "language_info": {
   "name": "python"
  }
 },
 "nbformat": 4,
 "nbformat_minor": 0
}
