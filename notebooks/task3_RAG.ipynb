{
 "cells": [
  {
   "cell_type": "markdown",
   "metadata": {
    "application/vnd.databricks.v1+cell": {
     "cellMetadata": {},
     "inputWidgets": {},
     "nuid": "1601be15-7560-436f-8aff-0c6c49867079",
     "showTitle": false,
     "title": ""
    }
   },
   "source": [
    "# Install packages"
   ]
  },
  {
   "cell_type": "code",
   "execution_count": null,
   "metadata": {
    "application/vnd.databricks.v1+cell": {
     "cellMetadata": {
      "byteLimit": 2048000,
      "rowLimit": 10000
     },
     "inputWidgets": {},
     "nuid": "9919cce6-0af8-4310-a304-d64de4d5ee0a",
     "showTitle": false,
     "title": ""
    }
   },
   "outputs": [],
   "source": [
    "%pip install langchain\n",
    "%pip install langchain_openai\n",
    "%pip install langchain-core\n",
    "%pip install langchain_community\n",
    "%pip install faiss-gpu\n",
    "%pip install --quiet langchain_experimental"
   ]
  },
  {
   "cell_type": "markdown",
   "metadata": {},
   "source": [
    "# Set up LLM & Embedding Model"
   ]
  },
  {
   "cell_type": "code",
   "execution_count": null,
   "metadata": {
    "application/vnd.databricks.v1+cell": {
     "cellMetadata": {
      "byteLimit": 2048000,
      "rowLimit": 10000
     },
     "inputWidgets": {},
     "nuid": "573357eb-09f0-4b64-a8b4-9fc122fc059a",
     "showTitle": false,
     "title": ""
    }
   },
   "outputs": [],
   "source": [
    "import json\n",
    "from langchain_openai import AzureChatOpenAI, AzureOpenAIEmbeddings\n",
    "\n",
    "with open(\"../secrets/openai_secrets.json\", \"r\") as file:\n",
    "  openai_secrets = json.load(file)\n",
    "\n",
    "\n",
    "llm = AzureChatOpenAI(\n",
    "    azure_endpoint=openai_secrets[\"openai_api_base\"],\n",
    "    openai_api_version=\"2023-03-15-preview\",\n",
    "    deployment_name=\"gpt-4-32k\",\n",
    "    openai_api_key=openai_secrets[\"openai_api_key\"],\n",
    "    openai_api_type=\"azure\",\n",
    "    temperature=0,\n",
    ")\n",
    "\n",
    "embedding_model = AzureOpenAIEmbeddings(\n",
    "    chunk_size=1,\n",
    "    deployment=\"text-embedding-ada-002\",\n",
    "    openai_api_version=\"2023-03-15-preview\",\n",
    "    azure_endpoint=openai_secrets[\"openai_api_base\"],\n",
    "    openai_api_key=openai_secrets[\"openai_api_key\"],\n",
    "    openai_api_type=\"azure\",\n",
    ")"
   ]
  },
  {
   "cell_type": "markdown",
   "metadata": {
    "application/vnd.databricks.v1+cell": {
     "cellMetadata": {},
     "inputWidgets": {},
     "nuid": "033ffed9-b768-474c-931b-cd1cc0e66616",
     "showTitle": false,
     "title": ""
    }
   },
   "source": [
    "# Convert articles to document objects"
   ]
  },
  {
   "cell_type": "code",
   "execution_count": 1,
   "metadata": {},
   "outputs": [],
   "source": [
    "input_file_path = '../data/task2_json/articles_with_rating.json'"
   ]
  },
  {
   "cell_type": "code",
   "execution_count": null,
   "metadata": {
    "application/vnd.databricks.v1+cell": {
     "cellMetadata": {
      "byteLimit": 2048000,
      "rowLimit": 10000
     },
     "inputWidgets": {},
     "nuid": "b13f8878-5d4b-4761-9e4f-7a72df73abc9",
     "showTitle": false,
     "title": ""
    }
   },
   "outputs": [],
   "source": [
    "from langchain.schema import Document\n",
    "\n",
    "def load_articles(file_path):\n",
    "  \"\"\"\n",
    "    Loads articles from a JSON file and converts them into Document objects.\n",
    "\n",
    "    Args:\n",
    "    - file_path (str): Path to the JSON file containing article data.\n",
    "\n",
    "    Returns:\n",
    "    - List[Document]: A list of Document objects, each representing an article with company page content and other metadata.\n",
    "  \"\"\"\n",
    "  with open(file_path, 'r') as file:\n",
    "    data = json.load(file)\n",
    "  all_documents = []\n",
    "  for article in data:\n",
    "    for company in article['companies']:\n",
    "      all_documents.append(Document(page_content=company, metadata={'title': article['title'], 'date': article['date'], 'author': article['author'], 'content': article['content']}))\n",
    "\n",
    "  return all_documents\n",
    "\n",
    "documents = load_articles(input_file_path)"
   ]
  },
  {
   "cell_type": "code",
   "execution_count": null,
   "metadata": {
    "application/vnd.databricks.v1+cell": {
     "cellMetadata": {
      "byteLimit": 2048000,
      "rowLimit": 10000
     },
     "inputWidgets": {},
     "nuid": "c59d86b7-a4db-4dfe-979e-268230ce0903",
     "showTitle": false,
     "title": ""
    }
   },
   "outputs": [
    {
     "name": "stdout",
     "output_type": "stream",
     "text": [
      "page_content='NBC' metadata={'title': '‘I’m On The Horse’: Biden Defends Himself From Post-Debate Criticisms In NBC Interview', 'date': 'Jul 15, 2024,10:25pm EDT', 'author': 'Antonio Pequeño IV', 'content': \"President Joe Biden said in a somewhat defensive interview with NBC’s Lester Holt on Monday he is back “on the horse” following a shaky debate performance against former President Donald Trump, expressing his confidence in his campaign for president and critiquing Trump’s rhetoric in the leadup to Election Day. Biden was interviewed on NBC Nightly News by Lester Holt. (Photo by Demetrius Freeman/The Washington ... [+] Post via Getty Images) Holt asked if Biden has a “sense of wanting to get back on the horse” following his debate performance last month, to which Biden replied, “I’m on the horse. Where have you been?” Biden cited major events he has attended in the last few weeks, saying he’s met thousands of people and spoken to “overwhelming crowds” in what he called demonstrations to the American people that he has control of his mental faculties, which have come under scrutiny following the debate and two events last week. Biden was asked if he watched the debate and said he watched parts of it before asking Holt why the press has not talked about “the 18—28 lies [Trump] told,” though several fact-checking stories were published by multiple major outlets during and after the debate. The president said he agreed to debate Trump in September, adding he does not plan on having a similar performance to the first debate, which he characterized as a “bad, bad night” for him before saying he “wasn’t feeling well at all.” Biden urged Holt “come and talk to me about what we should be talking about,” as the two concluded the interview. Get Forbes Breaking News Text Alerts: We’re launching text message alerts so you'll always know the biggest stories shaping the day’s headlines. Text “Alerts” to (201) 335-0739 or sign up here. Biden’s interview aligned with recent comments he has made maintaining he will see his presidential run through until the end, which materialized as several Democrats in Congress called for him to drop out. The president is trailing Trump by 2.7 points on average in a national head-to-head race, according to RealClearPolitics’ poll tracker. Biden told Holt the race between Trump and him is “essentially a toss-up race,” saying the “polling data shows a lot of different things” before touting his achievements as president and noting “the job’s not finished.” Full Interview: President Joe Biden interviewed by Lester Holt (NBC News) Biden Vs. Trump 2024 Election Polls: Biden Narrowly Leads Trump In Virginia, After 10-Point Win There In 2020 (Forbes) Every Big Name Urging Biden To Drop Out: 19 Democrats In Congress Go Public (Forbes)\"}\n",
      "page_content='RealClearPolitics' metadata={'title': '‘I’m On The Horse’: Biden Defends Himself From Post-Debate Criticisms In NBC Interview', 'date': 'Jul 15, 2024,10:25pm EDT', 'author': 'Antonio Pequeño IV', 'content': \"President Joe Biden said in a somewhat defensive interview with NBC’s Lester Holt on Monday he is back “on the horse” following a shaky debate performance against former President Donald Trump, expressing his confidence in his campaign for president and critiquing Trump’s rhetoric in the leadup to Election Day. Biden was interviewed on NBC Nightly News by Lester Holt. (Photo by Demetrius Freeman/The Washington ... [+] Post via Getty Images) Holt asked if Biden has a “sense of wanting to get back on the horse” following his debate performance last month, to which Biden replied, “I’m on the horse. Where have you been?” Biden cited major events he has attended in the last few weeks, saying he’s met thousands of people and spoken to “overwhelming crowds” in what he called demonstrations to the American people that he has control of his mental faculties, which have come under scrutiny following the debate and two events last week. Biden was asked if he watched the debate and said he watched parts of it before asking Holt why the press has not talked about “the 18—28 lies [Trump] told,” though several fact-checking stories were published by multiple major outlets during and after the debate. The president said he agreed to debate Trump in September, adding he does not plan on having a similar performance to the first debate, which he characterized as a “bad, bad night” for him before saying he “wasn’t feeling well at all.” Biden urged Holt “come and talk to me about what we should be talking about,” as the two concluded the interview. Get Forbes Breaking News Text Alerts: We’re launching text message alerts so you'll always know the biggest stories shaping the day’s headlines. Text “Alerts” to (201) 335-0739 or sign up here. Biden’s interview aligned with recent comments he has made maintaining he will see his presidential run through until the end, which materialized as several Democrats in Congress called for him to drop out. The president is trailing Trump by 2.7 points on average in a national head-to-head race, according to RealClearPolitics’ poll tracker. Biden told Holt the race between Trump and him is “essentially a toss-up race,” saying the “polling data shows a lot of different things” before touting his achievements as president and noting “the job’s not finished.” Full Interview: President Joe Biden interviewed by Lester Holt (NBC News) Biden Vs. Trump 2024 Election Polls: Biden Narrowly Leads Trump In Virginia, After 10-Point Win There In 2020 (Forbes) Every Big Name Urging Biden To Drop Out: 19 Democrats In Congress Go Public (Forbes)\"}\n"
     ]
    }
   ],
   "source": [
    "print(documents[0])\n",
    "print(documents[2])"
   ]
  },
  {
   "cell_type": "markdown",
   "metadata": {
    "application/vnd.databricks.v1+cell": {
     "cellMetadata": {},
     "inputWidgets": {},
     "nuid": "d04e6daf-1f27-494c-a37f-373cfad62ce1",
     "showTitle": false,
     "title": ""
    }
   },
   "source": [
    "# Vectorise company names"
   ]
  },
  {
   "cell_type": "code",
   "execution_count": null,
   "metadata": {
    "application/vnd.databricks.v1+cell": {
     "cellMetadata": {
      "byteLimit": 2048000,
      "rowLimit": 10000
     },
     "inputWidgets": {},
     "nuid": "a0079d7b-f65b-4775-a799-912736e728e5",
     "showTitle": false,
     "title": ""
    }
   },
   "outputs": [],
   "source": [
    "from langchain.vectorstores import FAISS\n",
    "\n",
    "company_vector_store = FAISS.from_documents(documents, embedding_model)"
   ]
  },
  {
   "cell_type": "markdown",
   "metadata": {},
   "source": [
    "# Get unique counts of companies"
   ]
  },
  {
   "cell_type": "code",
   "execution_count": null,
   "metadata": {},
   "outputs": [],
   "source": [
    "with open(input_file_path, 'r') as file:\n",
    "    data = json.load(file)\n",
    "    \n",
    "companies = []\n",
    "\n",
    "for article in data:\n",
    "  companies.extend(article['companies'])"
   ]
  },
  {
   "cell_type": "code",
   "execution_count": null,
   "metadata": {
    "application/vnd.databricks.v1+cell": {
     "cellMetadata": {
      "byteLimit": 2048000,
      "rowLimit": 10000
     },
     "inputWidgets": {},
     "nuid": "ff35ed71-dece-4bca-99cb-7fe1753a1af2",
     "showTitle": false,
     "title": ""
    }
   },
   "outputs": [
    {
     "name": "stdout",
     "output_type": "stream",
     "text": [
      "Counter({'Bank of Japan': 24, 'Bank of England': 19, 'Amazon': 16, 'Bundesbank': 14, 'Federal Reserve': 14, 'NBC': 13, 'Forbes': 13, 'Tesla': 12, 'Pfizer': 12, 'Hulu': 12, 'Truth Social': 8, 'RealClearPolitics': 7, 'Ford': 7, 'GM': 7, 'Stellantis': 7, 'Wood Mackenzie': 7, 'General Motors': 7, 'Disney+': 7, 'WWE': 6, 'GoFundMe': 6, 'Citadel': 6, 'Griffin Catalyst': 6, 'Citadel Securities': 6, 'Bethel Park Skilled Nursing and Rehabilitation Center': 6, 'HBO Max': 6, 'Eli Lilly': 6, 'Novo Nordisk': 6, 'Zealand Pharma': 6, 'Boehringer Ingelheim': 6, 'Viking Therapeutics': 6, 'Terns Pharmaceuticals': 6, 'Structure Therapeutics': 6, 'Altimmune': 6, 'Amgen': 6, 'Roche': 6, 'Carmot Therapeutics': 6, 'AstraZeneca': 6, 'Eccogene': 6, 'FX': 6, 'Netflix': 6, 'Disney': 6, 'ABC': 6, 'Fox': 6, 'Warner Bros. Studios': 6, 'Apple': 6, 'Warner Bros. Discovery': 6, 'Wedbush Securities': 6, 'Spirit AeroSystems': 6, 'Boeing': 6, 'Airbus': 6, 'Melius Research': 6, 'Northrop Grumman': 6, 'Gradiant': 6, 'TSMC': 6, 'Micron': 6, 'GSK': 6, 'Coca-Cola': 6, 'Rio Tinto': 6, 'Centaurus Capital': 6, 'SLB': 6, 'Real Madrid': 6, 'Loyalty Security Alliance': 6, 'Arkose Labs': 6, 'Singapore Airlines': 6, 'Zipair': 6, 'Delta Air Lines': 6, 'American Express': 6, 'TD Cowen': 6, 'IdeaWorks': 6, 'United Airlines': 6, 'NBA Academy': 6, 'Phoenix Suns': 6, 'Bakken Bears': 6, 'Boston Celtics': 6, 'Partizan': 6, 'Bachan': 5, 'Prelude Growth Partners': 5, 'Whole Foods': 5, 'Walmart': 5, 'Sonoma Brands Capital': 5, 'Facebook': 5, 'McCormick': 5, 'Heinz': 5, 'Tabasco': 5, 'Heritage Foundation': 5, 'Daily Wire': 5, 'Tourism Authority of Thailand': 5, 'MoffettNathanson': 5, 'T-Mobile': 5, 'CBS Sports': 5, 'ESPN': 5, 'Toronto Blue Jays': 5, 'Schlumberger': 5, 'Bank of France': 5, 'Turning Point USA': 4, 'Frigidaire': 4, 'National Cash Register': 4, 'Delco Electronics': 4, 'Sports Illustrated': 4, 'Detroit Tigers': 4, 'Colorado Rockies': 4, 'New York Mets': 4, 'University of Michigan': 4, 'International Airline Transport Association': 4, 'NBC New York': 4, 'The Milwaukee Journal-Sentinel': 4, 'Dallas Morning News': 4, 'The Tulane Hullabaloo': 4, 'Arizona Republic': 4, 'WTXL': 4, 'Fox 5 Atlanta': 4, 'The Daily Northwestern': 4, 'Associated Press': 4, 'Reuters': 4, 'International Monetary Fund': 4, 'Republican National Committee': 3, 'Democratic Party': 3, 'UPS': 3, 'Alaska airlines': 3, 'FUGA': 3, 'Adidas': 3, 'Apple Music': 3, 'The Daily Tar Heel': 3, 'The Daily Princetonian': 3, 'Philadelphia Phillies': 3, 'AeroDynamic Advisory': 3, 'California Polytechnic State University-San Luis Obispo': 3, 'Spins': 3, 'Green Bay Packers': 3, 'Liberal Democratic Party': 3, 'Federal Reserve Board': 3, 'New York Fed': 3, 'Cholula': 2, 'Teamsters National Black Caucus': 2, 'AFL-CIO': 2, 'United Auto Workers': 2, 'AFSCME': 2, 'National Education Association': 2, 'Service Employees International Union': 2, 'Anantara Rasananda': 2, 'MLB Photos': 2, 'YouTube': 2, 'The Oregonian': 2, 'Los Angeles Times': 2, 'The Yale Daily News': 2, 'Anantara Rasananda resort': 2, 'HBO': 2, 'Chase Bank AG': 2, 'Bank Julius Baer and Co Ltd': 2, 'Midland Bank': 2, 'Swiss Bank Corp': 2, 'Smith Barney, Harris Upham and Co.': 2, 'World Bank': 2, 'Nikko Securities Co International Inc': 2, 'Discount Corp': 2, 'Bethmann Bank': 2, 'Swiss National Bank': 2, 'U.S. Federal Reserve': 2, 'First Commercial Bank': 2, 'Credit Suisse First Boston Ltd': 2, 'Arab Bankers Association': 2, 'Portsmouth Herald': 1, 'Teamsters': 1, 'Harvard': 1, 'Rogers Centre': 1, 'sportrac.com': 1, 'TikTok': 1, 'Billboard': 1, 'Getty Images': 1, 'RIAA': 1, 'Community College of Allegheny County': 1, 'Progressive Turnout Project': 1, 'CNN': 1, 'New York Times': 1, 'Philadelphia Inquirer': 1, 'Houston Astros': 1, 'Kansas City Royals': 1, 'Cleveland Indians': 1, 'Tampa Bay Rays': 1, 'Seattle Mariners': 1, 'Minnesota Twins': 1, 'Anantara': 1, 'The Portsmouth Herald': 1, 'Columbia University': 1, 'UCLA': 1, 'Emerson University': 1, 'Portland State University': 1, 'Los Angeles Police Department': 1, 'Dartmouth University': 1, 'University of New Hampshire': 1, 'Yale': 1, 'Fordham University': 1, 'University of Wisconsin-Madison': 1, 'University of Texas-Dallas': 1, 'Tulane': 1, 'University of Arizona': 1, 'California State Polytechnic University': 1, 'University of North Carolina-Chapel Hill': 1, 'City University of New York': 1, 'Florida State University': 1, 'Princeton University': 1, 'University of Texas-Austin': 1, 'Arizona State University': 1, 'Boston Police Department': 1, 'Emory University': 1, 'Northwestern University': 1, 'Brown University': 1, 'New York Police Department': 1, 'Manhattan District Attorney': 1, 'Columbia Students for Justice in Palestine': 1, 'Rutgers University': 1, 'Harvard University': 1, 'George Washington University': 1, 'House Republicans': 1, 'Sanaa University': 1, 'National Australia Bank Ltd': 1, 'Lloyds Bank NZA Ltd': 1, 'Banque Indosuez': 1, 'National Bank': 1, 'U.S. Federal Reserve Bank': 1, 'Dominick and Dominick': 1, 'Dean Witter Reynolds': 1, 'Merrill Lynch Capital Markets': 1, 'S.G. Warburg and Co Inc': 1, 'Aubrey G. Lanston and Co Inc': 1, 'Mellon Bank': 1, 'Institute for International Economics': 1, 'Goldman Sachs and Co': 1, 'Central Bank of Kenya': 1, 'Saudi Arabian Monetary Agency': 1, 'Sony Corp': 1, 'Interallianz Bank Zurich': 1, 'Keidanren': 1, 'Bank of Zambia': 1, 'Aubrey G. Lanston and Co': 1, 'Wells Fargo Bank': 1, 'ABN Bank': 1, 'Amro Bank': 1, 'Bank of Tokyo': 1, 'First National Bank of Chicago': 1, 'Federal Reserve Bank of New York': 1, 'Marine Midland Bank': 1, 'Sumitomo Bank': 1, \"Venezuela's central bank\": 1, 'Citibank AG': 1, 'Central Bank': 1, 'Citicorp': 1, 'Chase Manhattan': 1, 'Schroeder, Munchmeyer, Hengst Investment GmbH': 1, 'BBC AG Brown Boveri und Cie': 1, 'Shearson Lehman Government Securities Inc': 1, 'Salomon Brothers Inc': 1, 'Manufacturers Hanover Futures': 1, 'Merrill Lynch Economics': 1, 'U.S. League of Savings Institutions': 1, 'Dean Witter Reynolds Inc.': 1, 'FED': 1, 'Cambio la Guiara': 1, 'Caracas Stock Exchange': 1, 'NORWAY CENTRAL BANK': 1, 'Petroleos De Venezuela, S.A.(PDVSA)': 1, 'Central Bank of Venezuela': 1, 'Nomura Investment Trust and Management Co Ltd': 1, 'Meiji Mutual Life Insurance Co': 1, 'Yamaichi Securities Co Ltd': 1, 'Nikko Securities': 1, 'Reserve Bank of New Zealand': 1, 'Barclays': 1, 'Hoare Govett': 1, 'James Capel': 1, 'Kleinwort Grieveson': 1, 'Chemical Bank': 1, 'Goldman Sachs International': 1, 'UBS/Philips and Drew': 1, 'Deutsche Genossenschaftbank': 1, 'Nikko Securities International': 1, 'American Stock Exchange': 1, 'BankAmerica Corp.': 1, 'UBS-Phillips and Drew': 1, 'Deutsche Bank': 1, 'Deutsche Bank AG': 1, 'Commerzbank AG': 1, 'Venezuelan Central Bank': 1, 'Volkskas Bank': 1, 'Bankers Association': 1, 'Reserve Bank': 1, 'Bank of New Zealand': 1, 'Dai-ichi Kangyo Bank Ltd': 1, 'Fuju Bank Ltd': 1, 'Herstatt Bank': 1, 'Volkswagen': 1, 'Data Resources Europe Inc': 1, 'Amsterdam-Rotterdam Bank NV': 1, 'Rabobank Nederland': 1, 'Algemene Bank Nederland NV': 1, 'Bank of Spain': 1, 'BANK OF FRANCE': 1, 'Austrian National Bank': 1, 'Creditanstalt': 1, 'Girozentrale': 1, 'New York Federal Reserve Bank': 1, 'Maison Placements Canada Inc.': 1, 'Brown Baldwin Nisker Ltd': 1, 'Yorkton Securities': 1, 'ASA Ltd': 1, 'Campbell Red Lake Mines': 1, 'Newmont Gold': 1, 'Hemlo Gold': 1, 'LAC Minerals': 1, 'Placer Development': 1, 'Lacana Mining': 1, 'Morgan Guaranty Trust Co': 1, 'Bank of China': 1, 'Burgan Bank': 1, 'Beirut Riyad Bank': 1, 'Banque Internationale Arabe de Tunis': 1, 'Societe Bancaire du Liban': 1, 'Morgan Guaranty Trust Co of New York': 1, 'Saudi National Commercial Bank': 1, 'Finance and Credit Corp of Jordan': 1, 'Shearson Lehman Brothers': 1, 'Cable and Wireless': 1, 'Morgan Guaranty Trust': 1, 'Bahrain Monetary Agency': 1, 'Bank Indonesia': 1})\n"
     ]
    }
   ],
   "source": [
    "\n",
    "from collections import Counter\n",
    "company_counts = Counter(companies)\n",
    "\n",
    "print(company_counts)"
   ]
  },
  {
   "cell_type": "markdown",
   "metadata": {
    "application/vnd.databricks.v1+cell": {
     "cellMetadata": {},
     "inputWidgets": {},
     "nuid": "1ed5bf81-285d-4bc8-b517-5286ab2a75ac",
     "showTitle": false,
     "title": ""
    }
   },
   "source": [
    "# Text analysis\n",
    "## Assess credit risk with RAG\n",
    "\n",
    "1. Get the correct company name with similarity search. \n",
    "2. Combine all content across documents where the company name appears. \n",
    "3. Retrieve relevant information that is helpful to assess credit risk.\n",
    "4. Get the credit risk rating and justification."
   ]
  },
  {
   "cell_type": "code",
   "execution_count": null,
   "metadata": {
    "application/vnd.databricks.v1+cell": {
     "cellMetadata": {
      "byteLimit": 2048000,
      "rowLimit": 10000
     },
     "inputWidgets": {},
     "nuid": "1f50ad13-88c1-4584-af56-25a0f72f7821",
     "showTitle": false,
     "title": ""
    }
   },
   "outputs": [],
   "source": [
    "from langchain.prompts.prompt import PromptTemplate\n",
    "from langchain_core.pydantic_v1 import BaseModel, Field\n",
    "from langchain.output_parsers import PydanticOutputParser\n",
    "from langchain_experimental.text_splitter import SemanticChunker\n",
    "\n",
    "class CompanyCreditRisk(BaseModel):\n",
    "    credit_risk_rating: int = Field(..., ge=1, le=10, description=\"Credit risk rating on a scale of 1 to 10\")\n",
    "    justification: str = Field(..., description=\"Justification for the credit risk rating.\")\n",
    "\n",
    "parser = PydanticOutputParser(pydantic_object=CompanyCreditRisk)\n",
    "\n",
    "template = \"\"\"\n",
    "You are an expert financial analyst specializing in credit risk assessment. Given the following passage and company name, assess the company's credit risk on a scale from 1 to 10, where 1 indicates the lowest risk and 10 indicates the highest risk. Provide a brief justification for each rating based on the content of the article. Even if the passage does not contain specific information on credit risk, based on your knowledge and context, give it a score and justification.\n",
    "\n",
    "Passage:\n",
    "{input}\n",
    "\n",
    "Company Name:\n",
    "{company_name}\n",
    "\n",
    "Format the answer as a valid JSON object where it is a dictionary with two keys:\n",
    "- \"credit_risk_rating\": the rating score\n",
    "- \"justification\": text to justify the score\n",
    "\"\"\"\n",
    "\n",
    "prompt = PromptTemplate(\n",
    "    template=template,\n",
    "    input_variables=[\"input\", \"company_name\"],\n",
    ")\n",
    "\n",
    "chain = prompt | llm | parser"
   ]
  },
  {
   "cell_type": "code",
   "execution_count": null,
   "metadata": {
    "application/vnd.databricks.v1+cell": {
     "cellMetadata": {
      "byteLimit": 2048000,
      "rowLimit": 10000
     },
     "inputWidgets": {},
     "nuid": "d07c1a9f-6d1e-4454-8cc4-96df03e21a21",
     "showTitle": false,
     "title": ""
    }
   },
   "outputs": [
    {
     "name": "stdout",
     "output_type": "stream",
     "text": [
      "1 NBC\n",
      "4\n",
      "2 Forbes\n",
      "2\n",
      "3 RealClearPolitics\n",
      "1\n",
      "4 Tesla\n",
      "3\n",
      "5 Ford\n",
      "7\n",
      "6 GM\n",
      "6\n",
      "7 Stellantis\n",
      "6\n",
      "8 Truth Social\n",
      "3\n",
      "9 Turning Point USA\n",
      "3\n",
      "10 Wood Mackenzie\n",
      "3\n",
      "11 Bachan\n",
      "9\n",
      "12 Prelude Growth Partners\n",
      "9\n",
      "13 Whole Foods\n",
      "8\n",
      "14 Amazon\n",
      "2\n",
      "15 Walmart\n",
      "8\n",
      "16 Sonoma Brands Capital\n",
      "9\n",
      "17 Facebook\n",
      "8\n",
      "18 McCormick\n",
      "9\n",
      "19 Cholula\n",
      "3\n",
      "20 Heinz\n",
      "9\n",
      "21 Tabasco\n",
      "9\n",
      "22 General Motors\n",
      "4\n",
      "23 Frigidaire\n",
      "5\n",
      "24 National Cash Register\n",
      "5\n",
      "25 Delco Electronics\n",
      "5\n",
      "26 WWE\n",
      "2\n",
      "27 GoFundMe\n",
      "2\n",
      "28 Citadel\n",
      "1\n",
      "29 Heritage Foundation\n",
      "2\n",
      "30 Daily Wire\n",
      "3\n",
      "31 Griffin Catalyst\n",
      "2\n",
      "32 Citadel Securities\n",
      "1\n",
      "33 Bethel Park Skilled Nursing and Rehabilitation Center\n",
      "2\n",
      "34 HBO Max\n",
      "2\n",
      "35 Republican National Committee\n",
      "4\n",
      "36 Democratic Party\n",
      "4\n",
      "37 UPS\n",
      "3\n",
      "38 Teamsters National Black Caucus\n",
      "4\n",
      "39 AFL-CIO\n",
      "4\n",
      "40 United Auto Workers\n",
      "4\n",
      "41 AFSCME\n",
      "3\n",
      "42 National Education Association\n",
      "3\n",
      "43 Service Employees International Union\n",
      "3\n",
      "44 Eli Lilly\n",
      "3\n",
      "45 Novo Nordisk\n",
      "4\n",
      "46 Zealand Pharma\n",
      "6\n",
      "47 Boehringer Ingelheim\n",
      "5\n",
      "48 Viking Therapeutics\n",
      "7\n",
      "49 Terns Pharmaceuticals\n",
      "7\n",
      "50 Structure Therapeutics\n",
      "7\n",
      "51 Altimmune\n",
      "6\n",
      "52 Pfizer\n",
      "2\n",
      "53 Amgen\n",
      "5\n",
      "54 Roche\n",
      "3\n",
      "55 Carmot Therapeutics\n",
      "5\n",
      "56 AstraZeneca\n",
      "3\n",
      "57 Eccogene\n",
      "6\n",
      "58 Anantara Rasananda\n",
      "3\n",
      "59 Tourism Authority of Thailand\n",
      "3\n",
      "60 FX\n",
      "4\n",
      "61 Netflix\n",
      "3\n",
      "62 Disney\n",
      "3\n",
      "63 Hulu\n",
      "4\n",
      "64 ABC\n",
      "4\n",
      "65 Fox\n",
      "4\n",
      "66 Warner Bros. Studios\n",
      "4\n",
      "67 MoffettNathanson\n",
      "3\n",
      "68 Apple\n",
      "3\n",
      "69 Warner Bros. Discovery\n",
      "4\n",
      "70 Wedbush Securities\n",
      "3\n",
      "71 T-Mobile\n",
      "1\n",
      "72 MLB Photos\n",
      "1\n",
      "73 Sports Illustrated\n",
      "1\n",
      "74 CBS Sports\n",
      "1\n",
      "75 ESPN\n",
      "2\n",
      "76 YouTube\n",
      "1\n",
      "77 Detroit Tigers\n",
      "1\n",
      "78 Colorado Rockies\n",
      "1\n",
      "79 New York Mets\n",
      "1\n",
      "80 University of Michigan\n",
      "1\n",
      "81 Disney+\n",
      "3\n",
      "82 Spirit AeroSystems\n",
      "8\n",
      "83 Boeing\n",
      "8\n",
      "84 Airbus\n",
      "3\n",
      "85 Melius Research\n",
      "3\n",
      "86 Alaska airlines\n",
      "3\n",
      "87 Northrop Grumman\n",
      "3\n",
      "88 Gradiant\n",
      "3\n",
      "89 TSMC\n",
      "2\n",
      "90 Micron\n",
      "2\n",
      "91 GSK\n",
      "2\n",
      "92 Coca-Cola\n",
      "2\n",
      "93 Rio Tinto\n",
      "2\n",
      "94 Centaurus Capital\n",
      "2\n",
      "95 SLB\n",
      "2\n",
      "96 Real Madrid\n",
      "2\n",
      "97 Toronto Blue Jays\n",
      "5\n",
      "98 Loyalty Security Alliance\n",
      "7\n",
      "99 Arkose Labs\n",
      "3\n",
      "100 Singapore Airlines\n",
      "5\n",
      "101 Zipair\n",
      "5\n",
      "102 International Airline Transport Association\n",
      "4\n",
      "103 Delta Air Lines\n",
      "4\n",
      "104 American Express\n",
      "3\n",
      "105 TD Cowen\n",
      "2\n",
      "106 IdeaWorks\n",
      "3\n",
      "107 United Airlines\n",
      "4\n",
      "108 NBA Academy\n",
      "2\n",
      "109 Phoenix Suns\n",
      "2\n",
      "110 Bakken Bears\n",
      "3\n",
      "111 Boston Celtics\n",
      "2\n",
      "112 Partizan\n",
      "3\n",
      "113 FUGA\n",
      "4\n",
      "114 Adidas\n",
      "2\n",
      "115 Apple Music\n",
      "2\n",
      "116 NBC New York\n",
      "2\n",
      "117 The Oregonian\n",
      "2\n",
      "118 Los Angeles Times\n",
      "2\n",
      "119 Portsmouth Herald\n",
      "2\n",
      "120 The Yale Daily News\n",
      "2\n",
      "121 The Milwaukee Journal-Sentinel\n",
      "2\n",
      "122 Dallas Morning News\n",
      "3\n",
      "123 The Tulane Hullabaloo\n",
      "1\n",
      "124 Arizona Republic\n",
      "1\n",
      "125 The Daily Tar Heel\n",
      "3\n",
      "126 WTXL\n",
      "1\n",
      "127 The Daily Princetonian\n",
      "2\n",
      "128 Fox 5 Atlanta\n",
      "2\n",
      "129 The Daily Northwestern\n",
      "3\n",
      "130 Associated Press\n",
      "2\n",
      "131 Reuters\n",
      "2\n",
      "132 Teamsters\n",
      "4\n",
      "133 Philadelphia Phillies\n",
      "3\n",
      "134 AeroDynamic Advisory\n",
      "3\n",
      "135 Schlumberger\n",
      "2\n",
      "136 California Polytechnic State University-San Luis Obispo\n",
      "8\n",
      "137 Spins\n",
      "9\n",
      "138 Harvard\n",
      "1\n",
      "139 Anantara Rasananda resort\n",
      "3\n",
      "140 HBO\n",
      "2\n",
      "141 Rogers Centre\n",
      "3\n",
      "142 sportrac.com\n",
      "2\n",
      "143 TikTok\n",
      "2\n",
      "144 Billboard\n",
      "2\n",
      "145 Getty Images\n",
      "2\n",
      "146 RIAA\n",
      "2\n",
      "147 Green Bay Packers\n",
      "2\n",
      "148 Community College of Allegheny County\n",
      "2\n",
      "149 Progressive Turnout Project\n",
      "2\n",
      "150 CNN\n",
      "1\n",
      "151 New York Times\n",
      "2\n",
      "152 Philadelphia Inquirer\n",
      "2\n",
      "153 Houston Astros\n",
      "1\n",
      "154 Kansas City Royals\n",
      "3\n",
      "155 Cleveland Indians\n",
      "1\n",
      "156 Tampa Bay Rays\n",
      "3\n",
      "157 Seattle Mariners\n",
      "3\n",
      "158 Minnesota Twins\n",
      "3\n",
      "159 Anantara\n",
      "3\n",
      "160 The Portsmouth Herald\n",
      "2\n",
      "161 Columbia University\n",
      "3\n",
      "162 UCLA\n",
      "4\n",
      "163 Emerson University\n",
      "4\n",
      "164 Portland State University\n",
      "5\n",
      "165 Los Angeles Police Department\n",
      "1\n",
      "166 Dartmouth University\n",
      "3\n",
      "167 University of New Hampshire\n",
      "5\n",
      "168 Yale\n",
      "3\n",
      "169 Fordham University\n",
      "3\n",
      "170 University of Wisconsin-Madison\n",
      "4\n",
      "171 University of Texas-Dallas\n",
      "5\n",
      "172 Tulane\n",
      "4\n",
      "173 University of Arizona\n",
      "5\n",
      "174 California State Polytechnic University\n",
      "3\n",
      "175 University of North Carolina-Chapel Hill\n",
      "4\n",
      "176 City University of New York\n",
      "5\n",
      "177 Florida State University\n",
      "3\n",
      "178 Princeton University\n",
      "3\n",
      "179 University of Texas-Austin\n",
      "4\n",
      "180 Arizona State University\n",
      "3\n",
      "181 Boston Police Department\n",
      "1\n",
      "182 Emory University\n",
      "3\n",
      "183 Northwestern University\n",
      "3\n",
      "184 Brown University\n",
      "3\n",
      "185 New York Police Department\n",
      "1\n",
      "186 Manhattan District Attorney\n",
      "1\n",
      "187 Columbia Students for Justice in Palestine\n",
      "8\n",
      "188 Rutgers University\n",
      "4\n",
      "189 Harvard University\n",
      "3\n",
      "190 George Washington University\n",
      "4\n",
      "191 House Republicans\n",
      "1\n",
      "192 Sanaa University\n",
      "9\n",
      "193 Bundesbank\n",
      "2\n",
      "194 Bank of England\n",
      "2\n",
      "195 National Australia Bank Ltd\n",
      "3\n",
      "196 Lloyds Bank NZA Ltd\n",
      "3\n",
      "197 Bank of Japan\n",
      "2\n",
      "198 International Monetary Fund\n",
      "1\n",
      "199 Liberal Democratic Party\n",
      "2\n",
      "200 Bank of France\n",
      "3\n",
      "201 Chase Bank AG\n",
      "3\n",
      "202 Bank Julius Baer and Co Ltd\n",
      "3\n",
      "203 Midland Bank\n",
      "3\n",
      "204 Swiss Bank Corp\n",
      "3\n",
      "205 Banque Indosuez\n",
      "3\n",
      "206 National Bank\n",
      "2\n",
      "207 Federal Reserve\n",
      "1\n",
      "208 Smith Barney, Harris Upham and Co.\n",
      "4\n",
      "209 U.S. Federal Reserve Bank\n",
      "2\n",
      "210 Dominick and Dominick\n",
      "4\n",
      "211 Dean Witter Reynolds\n",
      "3\n",
      "212 Merrill Lynch Capital Markets\n",
      "4\n",
      "213 S.G. Warburg and Co Inc\n",
      "3\n",
      "214 Aubrey G. Lanston and Co Inc\n",
      "7\n",
      "215 Mellon Bank\n",
      "6\n",
      "216 Institute for International Economics\n",
      "3\n",
      "217 Goldman Sachs and Co\n",
      "4\n",
      "218 Central Bank of Kenya\n",
      "7\n",
      "219 Saudi Arabian Monetary Agency\n",
      "2\n",
      "220 Sony Corp\n",
      "3\n",
      "221 Interallianz Bank Zurich\n",
      "3\n",
      "222 Keidanren\n",
      "3\n",
      "223 Bank of Zambia\n",
      "7\n",
      "224 World Bank\n",
      "2\n",
      "225 Nikko Securities Co International Inc\n",
      "4\n",
      "226 Aubrey G. Lanston and Co\n",
      "4\n",
      "227 Discount Corp\n",
      "5\n",
      "228 Wells Fargo Bank\n",
      "4\n",
      "229 ABN Bank\n",
      "3\n",
      "230 Amro Bank\n",
      "3\n",
      "231 Bank of Tokyo\n",
      "3\n",
      "232 First National Bank of Chicago\n",
      "4\n",
      "233 Federal Reserve Bank of New York\n",
      "2\n",
      "234 Marine Midland Bank\n",
      "5\n",
      "235 Sumitomo Bank\n",
      "4\n",
      "236 Venezuela's central bank\n",
      "9\n",
      "237 Citibank AG\n",
      "2\n",
      "238 Central Bank\n",
      "4\n",
      "239 Citicorp\n",
      "3\n",
      "240 Chase Manhattan\n",
      "3\n",
      "241 Schroeder, Munchmeyer, Hengst Investment GmbH\n",
      "2\n",
      "242 Bethmann Bank\n",
      "3\n",
      "243 BBC AG Brown Boveri und Cie\n",
      "4\n",
      "244 Swiss National Bank\n",
      "2\n",
      "245 Shearson Lehman Government Securities Inc\n",
      "4\n",
      "246 Salomon Brothers Inc\n",
      "4\n",
      "247 Manufacturers Hanover Futures\n",
      "4\n",
      "248 Merrill Lynch Economics\n",
      "4\n",
      "249 U.S. Federal Reserve\n",
      "2\n",
      "250 Federal Reserve Board\n",
      "1\n",
      "251 U.S. League of Savings Institutions\n",
      "4\n",
      "252 New York Fed\n",
      "1\n",
      "253 Dean Witter Reynolds Inc.\n",
      "3\n",
      "254 First Commercial Bank\n",
      "3\n",
      "255 FED\n",
      "1\n",
      "256 Cambio la Guiara\n",
      "9\n",
      "257 Caracas Stock Exchange\n",
      "3\n",
      "258 NORWAY CENTRAL BANK\n",
      "2\n",
      "259 Petroleos De Venezuela, S.A.(PDVSA)\n",
      "3\n",
      "260 Central Bank of Venezuela\n",
      "7\n",
      "261 Nomura Investment Trust and Management Co Ltd\n",
      "6\n",
      "262 Meiji Mutual Life Insurance Co\n",
      "5\n",
      "263 Yamaichi Securities Co Ltd\n",
      "6\n",
      "264 Nikko Securities\n",
      "4\n",
      "265 Reserve Bank of New Zealand\n",
      "2\n",
      "266 Barclays\n",
      "6\n",
      "267 Hoare Govett\n",
      "6\n",
      "268 James Capel\n",
      "4\n",
      "269 Kleinwort Grieveson\n",
      "5\n",
      "270 Chemical Bank\n",
      "4\n",
      "271 Goldman Sachs International\n",
      "4\n",
      "272 UBS/Philips and Drew\n",
      "3\n",
      "273 Deutsche Genossenschaftbank\n",
      "3\n",
      "274 Credit Suisse First Boston Ltd\n",
      "3\n",
      "275 Nikko Securities International\n",
      "4\n",
      "276 American Stock Exchange\n",
      "3\n",
      "277 BankAmerica Corp.\n",
      "5\n",
      "278 UBS-Phillips and Drew\n",
      "4\n",
      "279 Deutsche Bank\n",
      "4\n",
      "280 Deutsche Bank AG\n",
      "3\n",
      "281 Commerzbank AG\n",
      "5\n",
      "282 Venezuelan Central Bank\n",
      "7\n",
      "283 Volkskas Bank\n",
      "6\n",
      "284 Bankers Association\n",
      "9\n",
      "285 Reserve Bank\n",
      "7\n",
      "286 Bank of New Zealand\n",
      "7\n",
      "287 Dai-ichi Kangyo Bank Ltd\n",
      "4\n",
      "288 Fuju Bank Ltd\n",
      "4\n",
      "289 Herstatt Bank\n",
      "10\n",
      "290 Volkswagen\n",
      "3\n",
      "291 Data Resources Europe Inc\n",
      "3\n",
      "292 Amsterdam-Rotterdam Bank NV\n",
      "4\n",
      "293 Rabobank Nederland\n",
      "3\n",
      "294 Algemene Bank Nederland NV\n",
      "3\n",
      "295 Bank of Spain\n",
      "7\n",
      "296 BANK OF FRANCE\n",
      "2\n",
      "297 Austrian National Bank\n",
      "2\n",
      "298 Creditanstalt\n",
      "3\n",
      "299 Girozentrale\n",
      "3\n",
      "300 New York Federal Reserve Bank\n",
      "1\n",
      "301 Maison Placements Canada Inc.\n",
      "3\n",
      "302 Brown Baldwin Nisker Ltd\n",
      "3\n",
      "303 Yorkton Securities\n",
      "3\n",
      "304 ASA Ltd\n",
      "3\n",
      "305 Campbell Red Lake Mines\n",
      "3\n",
      "306 Newmont Gold\n",
      "3\n",
      "307 Hemlo Gold\n",
      "3\n",
      "308 LAC Minerals\n",
      "3\n",
      "309 Placer Development\n",
      "3\n",
      "310 Lacana Mining\n",
      "3\n",
      "311 Morgan Guaranty Trust Co\n",
      "3\n",
      "312 Arab Bankers Association\n",
      "5\n",
      "313 Bank of China\n",
      "4\n",
      "314 Burgan Bank\n",
      "3\n",
      "315 Beirut Riyad Bank\n",
      "3\n",
      "316 Banque Internationale Arabe de Tunis\n",
      "3\n",
      "317 Societe Bancaire du Liban\n",
      "3\n",
      "318 Morgan Guaranty Trust Co of New York\n",
      "2\n",
      "319 Saudi National Commercial Bank\n",
      "3\n",
      "320 Finance and Credit Corp of Jordan\n",
      "3\n",
      "321 Shearson Lehman Brothers\n",
      "4\n",
      "322 Cable and Wireless\n",
      "5\n",
      "323 Morgan Guaranty Trust\n",
      "3\n",
      "324 Bahrain Monetary Agency\n",
      "3\n",
      "325 Bank Indonesia\n",
      "7\n"
     ]
    }
   ],
   "source": [
    "company_with_rating = {}\n",
    "counter = 0\n",
    "\n",
    "all_companies = list(company_counts.keys())\n",
    "\n",
    "for company in all_companies:\n",
    "  counter += 1\n",
    "  print(counter, company)\n",
    "\n",
    "  num_doc_to_retrieve = company_counts[company] # Number of documents to retrieve for the company from unique counts\n",
    "  company_docs = company_vector_store.similarity_search(company, k=num_doc_to_retrieve)\n",
    "\n",
    "  # get all document content for the company\n",
    "  content_documents = \"\"\n",
    "  for doc in company_docs:\n",
    "    content = doc.metadata['content']\n",
    "    title = doc.metadata['title']\n",
    "    content_documents += title\n",
    "    content_documents += \"\\n\"\n",
    "    content_documents += content\n",
    "    content_documents += \"\\n\"\n",
    "\n",
    "\n",
    "  # chunk the document content semantically\n",
    "  text_splitter = SemanticChunker(embedding_model, breakpoint_threshold_type=\"percentile\")\n",
    "  content_documents_split = text_splitter.create_documents([content_documents])\n",
    "\n",
    "\n",
    "  # similarity search for document content with information related to credit risk\n",
    "  content_vector_store = FAISS.from_documents(content_documents_split, embedding_model)\n",
    "  query = \"Retrieve text with relevant information on a company's financial performance, including financial statements, payment history, credit ratings, loan history, debt levels, and any other factors that might influence the credit risk assessment.\"\n",
    "  relevant_docs = content_vector_store.similarity_search(query)\n",
    "\n",
    "  relevant_info = \"\"\n",
    "  for doc in relevant_docs:\n",
    "    relevant_info += doc.page_content\n",
    "\n",
    "  # assess risk\n",
    "  result = chain.invoke({\"input\": relevant_info, \"company_name\": company})\n",
    "\n",
    "  print(f\"{result.credit_risk_rating}\")\n",
    "\n",
    "  company_with_rating[company] = (result.credit_risk_rating, result.justification)\n",
    "\n",
    "\n",
    "  "
   ]
  },
  {
   "cell_type": "code",
   "execution_count": null,
   "metadata": {
    "application/vnd.databricks.v1+cell": {
     "cellMetadata": {
      "byteLimit": 2048000,
      "rowLimit": 10000
     },
     "inputWidgets": {},
     "nuid": "3f893b5b-6bb3-45bd-aeb6-d326e79e2378",
     "showTitle": false,
     "title": ""
    }
   },
   "outputs": [],
   "source": [
    "with open('../data/task3_json/company_with_rating.json', 'w', encoding='utf-8') as f:\n",
    "  json.dump(company_with_rating, f, indent=4)"
   ]
  },
  {
   "cell_type": "markdown",
   "metadata": {
    "application/vnd.databricks.v1+cell": {
     "cellMetadata": {},
     "inputWidgets": {},
     "nuid": "6bf82374-ef5b-4440-b90f-223a24496909",
     "showTitle": false,
     "title": ""
    }
   },
   "source": [
    "# Appendix - Example for 1 Company"
   ]
  },
  {
   "cell_type": "code",
   "execution_count": null,
   "metadata": {
    "application/vnd.databricks.v1+cell": {
     "cellMetadata": {
      "byteLimit": 2048000,
      "rowLimit": 10000
     },
     "inputWidgets": {},
     "nuid": "8cd11b07-b91b-4d52-8f39-d9dbd3c63aa8",
     "showTitle": false,
     "title": ""
    }
   },
   "outputs": [
    {
     "name": "stdout",
     "output_type": "stream",
     "text": [
      "Roche\n",
      "Roche\n",
      "Roche\n",
      "Roche\n",
      "Roche\n",
      "Roche\n"
     ]
    }
   ],
   "source": [
    "query = \"Roche\"\n",
    "docs = company_vector_store.similarity_search(query, k=6)\n",
    "\n",
    "for doc in docs:\n",
    "  print(doc.page_content)"
   ]
  },
  {
   "cell_type": "code",
   "execution_count": null,
   "metadata": {
    "application/vnd.databricks.v1+cell": {
     "cellMetadata": {
      "byteLimit": 2048000,
      "rowLimit": 10000
     },
     "inputWidgets": {},
     "nuid": "2eaed336-aeec-46f0-9e45-5cd3411e698b",
     "showTitle": false,
     "title": ""
    }
   },
   "outputs": [
    {
     "name": "stdout",
     "output_type": "stream",
     "text": [
      "Ozempic And Wegovy Rivals: Here Are The Companies Working On Competitor Weight Loss Drugs\n",
      "The stellar success of blockbuster drugs like Ozempic, Wegovy, Mounjaro and Zepbound has companies eager to break into the lucrative weight loss drug market — here are the hopeful rivals preparing to challenge Eli Lilly and Novo Nordisk for dominance in the obesity drug gold rush. Drugmakers are vying for a slice of the growing weight loss drug market. Biotech Zealand Pharma is preparing to challenge Danish compatriot Novo on multiple fronts, including survodutide—an injectable it is jointly developing with Germany’s Boehringer Ingelheim that mimics the same GLP-1 gut hormone as Wegovy and Zepbound and another hormone called glucagon and has produced strong results in mid-stage clinical trials as both an anti-obesity drug and a treatment for fatty liver disease—and petrelintide, which mimics a different hunger regulating hormone, amylin, that CEO Adam Steensberg said could become “the backbone of therapy for weight management” after it showed promise in early clinical trials this June. San Diego-based Viking Therapeutics marked itself as a serious competitor in the weight loss drug market in February after revealing promising data from a mid-stage trial of experimental drug VK2735, which suggested it rivaled—and outperformed—Novo and Lilly drugs when given as a weekly injection and in March the company unveiled plans to test an oral tablet version after a small stage trial revealed weight loss as high as 3.3%. Terns Pharmaceuticals is developing an oral weight loss drug targeting the GLP-1 hormone and expects to release 28-day data on weight loss from an early stage trial in the second half of 2024. San Francisco startup Structure Therapeutics is also working on an oral, once-daily GLP-1 drug called GSBR-1290—the drug surpassed Wall Street’s expectations in June when a mid-stage study showed average weight loss of around 6% and it plans to start another mid-stage trial towards the end of this year—that founder and CEO Raymond Stevens says has the potential to become “a best-in-class” and makes an “an ideal backbone” for creating combination therapies to treat obesity and other conditions in the future. Maryland-based Altimmune in March touted promising mid-stage trial results for its injectable weight-loss drug pemvidutide—which is in the same class as Wegovy, Ozempic, Zepbound and Mounjaro—that stood out from the crowd by preserving lean muscle mass while still inducing weight loss, most of which came from fat, and CEO Vipin Garg told Reuters the firm is actively looking for a global partner to help with late state trials and launching the drug. U.S. pharma giant Pfizer scrapped two experimental weight loss pills last year—a once-daily pill, lotiglipron, due to elevated liver enzymes and a twice-daily pill, danuglipron, due to strong side effects—but CEO Albert Bourla has said the company is determined to “play and win” in the obesity space and in July the company said it is pushing ahead with a once-daily danuglipron pill following “encouraging” data from an ongoing early-stage trial. California biotech behemoth Amgen ditched plans for an experimental weight loss pill in May but is still hoping for a slice of the market with MariTide, a monthly injection that is taken less frequently than popular weekly treatments from Lilly and Novo and notably appears to help some patients maintain weight loss after they stop taking it, a key issue emerging for patients on current treatments. While semaglutide and tirzepatide—respectively the generic names for the active drug in Wegovy, Ozempic, Mounjaro, and Zepbound—dominate the weight loss drug market (Mounjaro and Ozempic are only licensed for diabetes), neither Novo Nordisk nor Eli Lilly are resting on their laurels. Both are refining existing medications and developing next generation drugs to shore up their position in the future, as well as ramping up capacity to address persistent shortages amid booming demand. Novo, for example, is developing an oral version of semaglutide intended for once-daily treatment as well as new drugs like the injectable CagriSema, a combination drug that targets GLP-1 and another hormone, amylin, which regulates hunger. It is also developing amycretin in pill and injectable format, which is a single molecule targeting GLP-1 and amylin. Early data on the pill suggests amycretin could outperform Wegovy. Lilly, which secured approval for Zepbound in November, is working on a suite of new drugs including orforglipron and retatrutide, which hope to build on the weight loss in Zepbound and are both in late-stage trials. It is still going to be years before Novo Nordisk and Eli Lilly have serious competition for their popular weight loss treatment on pharmacy shelves. While the process varies, it can take between 10 and 20 years to usher a new drug through all three phases of clinical trials and most drugs ultimately fail during clinical testing. There is no guarantee promising results on efficacy, safety and tolerability from earlier trials will be replicated in larger late-stage trials. Even companies with candidates already in the later stages of testing are still going to require several years to gather and process the data and, should things pan out, time to work with regulators to secure approval. Launching the drug is another matter entirely and shoring up enough supplies has proven difficult even for companies the size of Lilly and Novo, who have continually failed to meet demand. Despite investing billions to ramp up production, both drugs are in short supply and both companies readily admit they are unlikely to meet demand in the near future. Bringing a drug to market is also a costly and logistically complex process, especially during the later stages of development and it is not uncommon for promising candidates, or even entire companies, to change hands. Pharma giants, who are increasingly replacing innovation with mergers and acquisitions, are known to scoop up promising drugs, portfolios or companies. Several have already happened in the weight loss space: Swiss heavyweight Roche inked a $2.7 billion deal for weight loss drug developer Carmot Therapeutics, whose once-weekly injection, CT-388, is in the same class as Lilly’s Mounjaro and Zepbound and British giant AstraZeneca paid up to $2 billion for an experimental pill from Chinese firm Eccogene. Often, smaller companies will also seek partnerships or acquisition deals with larger pharma firms to help with the later stages of development for promising candidates. Altimmune’s Garg said the company is looking for partners for the later stages of development but would be open to considering deals with big pharma firms if they benefited shareholders. $100 billion. That’s how much the weight loss drug market will be worth by 2030, according to some analysts. Some think the market is potentially worth much more—some forecasts have grown to around $150 billion by the early 2030s—and both Novo and Lilly raked in billions from their GLP-1 drugs last year (which are also used to treat diabetes). There are now more than 50 weight loss drugs in various stages of clinical development from about 40 companies, according to Bloomberg Intelligence. Analysts told Forbes Lilly and Novo are likely to continue to dominate the market for the foreseeable future. Being first to market has given them a sizable first mover advantage and their sheer size will help consolidate their positions through the deals they make with pharmacies, healthcare providers and insurers. Both are also gathering data on how their anti-obesity drugs affect issues like cardiovascular disease and kidney disease, which could be used to help market the drug, including for other conditions in patients without obesity or diabetes, and secure further buy-in from governments and insurers who may have been unwilling to fund medication for what many still view as a lifestyle problem. Analysts told Forbes such data could be pivotal in securing the two companies’ position in the market and give them a powerful advantage over competitors entering with indications for weight loss alone. Novo secured such an advantage last week when the Food and Drug Administration authorized a label expansion for Wegovy to include cardiovascular benefits. Similarly, Lilly is actively targeting sleep apnea as another condition tirzepatide can help with and if a label expansion is approved, the drug would become the first pharmaceutical treatment for the underlying causes of sleep apnea. Here’s Why Ozempic And Mounjaro Rivals Won’t Topple Drugmakers Novo Nordisk And Eli Lilly Anytime Soon (Forbes)  ​​\n",
      "Ozempic And Wegovy Rivals: Here Are The Companies Working On Competitor Weight Loss Drugs\n",
      "The stellar success of blockbuster drugs like Ozempic, Wegovy, Mounjaro and Zepbound has companies eager to break into the lucrative weight loss drug market — here are the hopeful rivals preparing to challenge Eli Lilly and Novo Nordisk for dominance in the obesity drug gold rush. Drugmakers are vying for a slice of the growing weight loss drug market. Biotech Zealand Pharma is preparing to challenge Danish compatriot Novo on multiple fronts, including survodutide—an injectable it is jointly developing with Germany’s Boehringer Ingelheim that mimics the same GLP-1 gut hormone as Wegovy and Zepbound and another hormone called glucagon and has produced strong results in mid-stage clinical trials as both an anti-obesity drug and a treatment for fatty liver disease—and petrelintide, which mimics a different hunger regulating hormone, amylin, that CEO Adam Steensberg said could become “the backbone of therapy for weight management” after it showed promise in early clinical trials this June. San Diego-based Viking Therapeutics marked itself as a serious competitor in the weight loss drug market in February after revealing promising data from a mid-stage trial of experimental drug VK2735, which suggested it rivaled—and outperformed—Novo and Lilly drugs when given as a weekly injection and in March the company unveiled plans to test an oral tablet version after a small stage trial revealed weight loss as high as 3.3%. Terns Pharmaceuticals is developing an oral weight loss drug targeting the GLP-1 hormone and expects to release 28-day data on weight loss from an early stage trial in the second half of 2024. San Francisco startup Structure Therapeutics is also working on an oral, once-daily GLP-1 drug called GSBR-1290—the drug surpassed Wall Street’s expectations in June when a mid-stage study showed average weight loss of around 6% and it plans to start another mid-stage trial towards the end of this year—that founder and CEO Raymond Stevens says has the potential to become “a best-in-class” and makes an “an ideal backbone” for creating combination therapies to treat obesity and other conditions in the future. Maryland-based Altimmune in March touted promising mid-stage trial results for its injectable weight-loss drug pemvidutide—which is in the same class as Wegovy, Ozempic, Zepbound and Mounjaro—that stood out from the crowd by preserving lean muscle mass while still inducing weight loss, most of which came from fat, and CEO Vipin Garg told Reuters the firm is actively looking for a global partner to help with late state trials and launching the drug. U.S. pharma giant Pfizer scrapped two experimental weight loss pills last year—a once-daily pill, lotiglipron, due to elevated liver enzymes and a twice-daily pill, danuglipron, due to strong side effects—but CEO Albert Bourla has said the company is determined to “play and win” in the obesity space and in July the company said it is pushing ahead with a once-daily danuglipron pill following “encouraging” data from an ongoing early-stage trial. California biotech behemoth Amgen ditched plans for an experimental weight loss pill in May but is still hoping for a slice of the market with MariTide, a monthly injection that is taken less frequently than popular weekly treatments from Lilly and Novo and notably appears to help some patients maintain weight loss after they stop taking it, a key issue emerging for patients on current treatments. While semaglutide and tirzepatide—respectively the generic names for the active drug in Wegovy, Ozempic, Mounjaro, and Zepbound—dominate the weight loss drug market (Mounjaro and Ozempic are only licensed for diabetes), neither Novo Nordisk nor Eli Lilly are resting on their laurels. Both are refining existing medications and developing next generation drugs to shore up their position in the future, as well as ramping up capacity to address persistent shortages amid booming demand. Novo, for example, is developing an oral version of semaglutide intended for once-daily treatment as well as new drugs like the injectable CagriSema, a combination drug that targets GLP-1 and another hormone, amylin, which regulates hunger. It is also developing amycretin in pill and injectable format, which is a single molecule targeting GLP-1 and amylin. Early data on the pill suggests amycretin could outperform Wegovy. Lilly, which secured approval for Zepbound in November, is working on a suite of new drugs including orforglipron and retatrutide, which hope to build on the weight loss in Zepbound and are both in late-stage trials. It is still going to be years before Novo Nordisk and Eli Lilly have serious competition for their popular weight loss treatment on pharmacy shelves. While the process varies, it can take between 10 and 20 years to usher a new drug through all three phases of clinical trials and most drugs ultimately fail during clinical testing. There is no guarantee promising results on efficacy, safety and tolerability from earlier trials will be replicated in larger late-stage trials. Even companies with candidates already in the later stages of testing are still going to require several years to gather and process the data and, should things pan out, time to work with regulators to secure approval. Launching the drug is another matter entirely and shoring up enough supplies has proven difficult even for companies the size of Lilly and Novo, who have continually failed to meet demand. Despite investing billions to ramp up production, both drugs are in short supply and both companies readily admit they are unlikely to meet demand in the near future. Bringing a drug to market is also a costly and logistically complex process, especially during the later stages of development and it is not uncommon for promising candidates, or even entire companies, to change hands. Pharma giants, who are increasingly replacing innovation with mergers and acquisitions, are known to scoop up promising drugs, portfolios or companies. Several have already happened in the weight loss space: Swiss heavyweight Roche inked a $2.7 billion deal for weight loss drug developer Carmot Therapeutics, whose once-weekly injection, CT-388, is in the same class as Lilly’s Mounjaro and Zepbound and British giant AstraZeneca paid up to $2 billion for an experimental pill from Chinese firm Eccogene. Often, smaller companies will also seek partnerships or acquisition deals with larger pharma firms to help with the later stages of development for promising candidates. Altimmune’s Garg said the company is looking for partners for the later stages of development but would be open to considering deals with big pharma firms if they benefited shareholders. $100 billion. That’s how much the weight loss drug market will be worth by 2030, according to some analysts. Some think the market is potentially worth much more—some forecasts have grown to around $150 billion by the early 2030s—and both Novo and Lilly raked in billions from their GLP-1 drugs last year (which are also used to treat diabetes). There are now more than 50 weight loss drugs in various stages of clinical development from about 40 companies, according to Bloomberg Intelligence. Analysts told Forbes Lilly and Novo are likely to continue to dominate the market for the foreseeable future. Being first to market has given them a sizable first mover advantage and their sheer size will help consolidate their positions through the deals they make with pharmacies, healthcare providers and insurers. Both are also gathering data on how their anti-obesity drugs affect issues like cardiovascular disease and kidney disease, which could be used to help market the drug, including for other conditions in patients without obesity or diabetes, and secure further buy-in from governments and insurers who may have been unwilling to fund medication for what many still view as a lifestyle problem. Analysts told Forbes such data could be pivotal in securing the two companies’ position in the market and give them a powerful advantage over competitors entering with indications for weight loss alone. Novo secured such an advantage last week when the Food and Drug Administration authorized a label expansion for Wegovy to include cardiovascular benefits. Similarly, Lilly is actively targeting sleep apnea as another condition tirzepatide can help with and if a label expansion is approved, the drug would become the first pharmaceutical treatment for the underlying causes of sleep apnea. Here’s Why Ozempic And Mounjaro Rivals Won’t Topple Drugmakers Novo Nordisk And Eli Lilly Anytime Soon (Forbes)  ​​\n",
      "Ozempic And Wegovy Rivals: Here Are The Companies Working On Competitor Weight Loss Drugs\n",
      "The stellar success of blockbuster drugs like Ozempic, Wegovy, Mounjaro and Zepbound has companies eager to break into the lucrative weight loss drug market — here are the hopeful rivals preparing to challenge Eli Lilly and Novo Nordisk for dominance in the obesity drug gold rush. Drugmakers are vying for a slice of the growing weight loss drug market. Biotech Zealand Pharma is preparing to challenge Danish compatriot Novo on multiple fronts, including survodutide—an injectable it is jointly developing with Germany’s Boehringer Ingelheim that mimics the same GLP-1 gut hormone as Wegovy and Zepbound and another hormone called glucagon and has produced strong results in mid-stage clinical trials as both an anti-obesity drug and a treatment for fatty liver disease—and petrelintide, which mimics a different hunger regulating hormone, amylin, that CEO Adam Steensberg said could become “the backbone of therapy for weight management” after it showed promise in early clinical trials this June. San Diego-based Viking Therapeutics marked itself as a serious competitor in the weight loss drug market in February after revealing promising data from a mid-stage trial of experimental drug VK2735, which suggested it rivaled—and outperformed—Novo and Lilly drugs when given as a weekly injection and in March the company unveiled plans to test an oral tablet version after a small stage trial revealed weight loss as high as 3.3%. Terns Pharmaceuticals is developing an oral weight loss drug targeting the GLP-1 hormone and expects to release 28-day data on weight loss from an early stage trial in the second half of 2024. San Francisco startup Structure Therapeutics is also working on an oral, once-daily GLP-1 drug called GSBR-1290—the drug surpassed Wall Street’s expectations in June when a mid-stage study showed average weight loss of around 6% and it plans to start another mid-stage trial towards the end of this year—that founder and CEO Raymond Stevens says has the potential to become “a best-in-class” and makes an “an ideal backbone” for creating combination therapies to treat obesity and other conditions in the future. Maryland-based Altimmune in March touted promising mid-stage trial results for its injectable weight-loss drug pemvidutide—which is in the same class as Wegovy, Ozempic, Zepbound and Mounjaro—that stood out from the crowd by preserving lean muscle mass while still inducing weight loss, most of which came from fat, and CEO Vipin Garg told Reuters the firm is actively looking for a global partner to help with late state trials and launching the drug. U.S. pharma giant Pfizer scrapped two experimental weight loss pills last year—a once-daily pill, lotiglipron, due to elevated liver enzymes and a twice-daily pill, danuglipron, due to strong side effects—but CEO Albert Bourla has said the company is determined to “play and win” in the obesity space and in July the company said it is pushing ahead with a once-daily danuglipron pill following “encouraging” data from an ongoing early-stage trial. California biotech behemoth Amgen ditched plans for an experimental weight loss pill in May but is still hoping for a slice of the market with MariTide, a monthly injection that is taken less frequently than popular weekly treatments from Lilly and Novo and notably appears to help some patients maintain weight loss after they stop taking it, a key issue emerging for patients on current treatments. While semaglutide and tirzepatide—respectively the generic names for the active drug in Wegovy, Ozempic, Mounjaro, and Zepbound—dominate the weight loss drug market (Mounjaro and Ozempic are only licensed for diabetes), neither Novo Nordisk nor Eli Lilly are resting on their laurels. Both are refining existing medications and developing next generation drugs to shore up their position in the future, as well as ramping up capacity to address persistent shortages amid booming demand. Novo, for example, is developing an oral version of semaglutide intended for once-daily treatment as well as new drugs like the injectable CagriSema, a combination drug that targets GLP-1 and another hormone, amylin, which regulates hunger. It is also developing amycretin in pill and injectable format, which is a single molecule targeting GLP-1 and amylin. Early data on the pill suggests amycretin could outperform Wegovy. Lilly, which secured approval for Zepbound in November, is working on a suite of new drugs including orforglipron and retatrutide, which hope to build on the weight loss in Zepbound and are both in late-stage trials. It is still going to be years before Novo Nordisk and Eli Lilly have serious competition for their popular weight loss treatment on pharmacy shelves. While the process varies, it can take between 10 and 20 years to usher a new drug through all three phases of clinical trials and most drugs ultimately fail during clinical testing. There is no guarantee promising results on efficacy, safety and tolerability from earlier trials will be replicated in larger late-stage trials. Even companies with candidates already in the later stages of testing are still going to require several years to gather and process the data and, should things pan out, time to work with regulators to secure approval. Launching the drug is another matter entirely and shoring up enough supplies has proven difficult even for companies the size of Lilly and Novo, who have continually failed to meet demand. Despite investing billions to ramp up production, both drugs are in short supply and both companies readily admit they are unlikely to meet demand in the near future. Bringing a drug to market is also a costly and logistically complex process, especially during the later stages of development and it is not uncommon for promising candidates, or even entire companies, to change hands. Pharma giants, who are increasingly replacing innovation with mergers and acquisitions, are known to scoop up promising drugs, portfolios or companies. Several have already happened in the weight loss space: Swiss heavyweight Roche inked a $2.7 billion deal for weight loss drug developer Carmot Therapeutics, whose once-weekly injection, CT-388, is in the same class as Lilly’s Mounjaro and Zepbound and British giant AstraZeneca paid up to $2 billion for an experimental pill from Chinese firm Eccogene. Often, smaller companies will also seek partnerships or acquisition deals with larger pharma firms to help with the later stages of development for promising candidates. Altimmune’s Garg said the company is looking for partners for the later stages of development but would be open to considering deals with big pharma firms if they benefited shareholders. $100 billion. That’s how much the weight loss drug market will be worth by 2030, according to some analysts. Some think the market is potentially worth much more—some forecasts have grown to around $150 billion by the early 2030s—and both Novo and Lilly raked in billions from their GLP-1 drugs last year (which are also used to treat diabetes). There are now more than 50 weight loss drugs in various stages of clinical development from about 40 companies, according to Bloomberg Intelligence. Analysts told Forbes Lilly and Novo are likely to continue to dominate the market for the foreseeable future. Being first to market has given them a sizable first mover advantage and their sheer size will help consolidate their positions through the deals they make with pharmacies, hea\n",
      "\n",
      "*** WARNING: max output size exceeded, skipping output. ***\n",
      "\n",
      "itself as a serious competitor in the weight loss drug market in February after revealing promising data from a mid-stage trial of experimental drug VK2735, which suggested it rivaled—and outperformed—Novo and Lilly drugs when given as a weekly injection and in March the company unveiled plans to test an oral tablet version after a small stage trial revealed weight loss as high as 3.3%. Terns Pharmaceuticals is developing an oral weight loss drug targeting the GLP-1 hormone and expects to release 28-day data on weight loss from an early stage trial in the second half of 2024. San Francisco startup Structure Therapeutics is also working on an oral, once-daily GLP-1 drug called GSBR-1290—the drug surpassed Wall Street’s expectations in June when a mid-stage study showed average weight loss of around 6% and it plans to start another mid-stage trial towards the end of this year—that founder and CEO Raymond Stevens says has the potential to become “a best-in-class” and makes an “an ideal backbone” for creating combination therapies to treat obesity and other conditions in the future. Maryland-based Altimmune in March touted promising mid-stage trial results for its injectable weight-loss drug pemvidutide—which is in the same class as Wegovy, Ozempic, Zepbound and Mounjaro—that stood out from the crowd by preserving lean muscle mass while still inducing weight loss, most of which came from fat, and CEO Vipin Garg told Reuters the firm is actively looking for a global partner to help with late state trials and launching the drug. U.S. pharma giant Pfizer scrapped two experimental weight loss pills last year—a once-daily pill, lotiglipron, due to elevated liver enzymes and a twice-daily pill, danuglipron, due to strong side effects—but CEO Albert Bourla has said the company is determined to “play and win” in the obesity space and in July the company said it is pushing ahead with a once-daily danuglipron pill following “encouraging” data from an ongoing early-stage trial. California biotech behemoth Amgen ditched plans for an experimental weight loss pill in May but is still hoping for a slice of the market with MariTide, a monthly injection that is taken less frequently than popular weekly treatments from Lilly and Novo and notably appears to help some patients maintain weight loss after they stop taking it, a key issue emerging for patients on current treatments. While semaglutide and tirzepatide—respectively the generic names for the active drug in Wegovy, Ozempic, Mounjaro, and Zepbound—dominate the weight loss drug market (Mounjaro and Ozempic are only licensed for diabetes), neither Novo Nordisk nor Eli Lilly are resting on their laurels. Both are refining existing medications and developing next generation drugs to shore up their position in the future, as well as ramping up capacity to address persistent shortages amid booming demand. Novo, for example, is developing an oral version of semaglutide intended for once-daily treatment as well as new drugs like the injectable CagriSema, a combination drug that targets GLP-1 and another hormone, amylin, which regulates hunger. It is also developing amycretin in pill and injectable format, which is a single molecule targeting GLP-1 and amylin. Early data on the pill suggests amycretin could outperform Wegovy. Lilly, which secured approval for Zepbound in November, is working on a suite of new drugs including orforglipron and retatrutide, which hope to build on the weight loss in Zepbound and are both in late-stage trials. It is still going to be years before Novo Nordisk and Eli Lilly have serious competition for their popular weight loss treatment on pharmacy shelves. While the process varies, it can take between 10 and 20 years to usher a new drug through all three phases of clinical trials and most drugs ultimately fail during clinical testing. There is no guarantee promising results on efficacy, safety and tolerability from earlier trials will be replicated in larger late-stage trials. Even companies with candidates already in the later stages of testing are still going to require several years to gather and process the data and, should things pan out, time to work with regulators to secure approval. Launching the drug is another matter entirely and shoring up enough supplies has proven difficult even for companies the size of Lilly and Novo, who have continually failed to meet demand. Despite investing billions to ramp up production, both drugs are in short supply and both companies readily admit they are unlikely to meet demand in the near future. Bringing a drug to market is also a costly and logistically complex process, especially during the later stages of development and it is not uncommon for promising candidates, or even entire companies, to change hands. Pharma giants, who are increasingly replacing innovation with mergers and acquisitions, are known to scoop up promising drugs, portfolios or companies. Several have already happened in the weight loss space: Swiss heavyweight Roche inked a $2.7 billion deal for weight loss drug developer Carmot Therapeutics, whose once-weekly injection, CT-388, is in the same class as Lilly’s Mounjaro and Zepbound and British giant AstraZeneca paid up to $2 billion for an experimental pill from Chinese firm Eccogene. Often, smaller companies will also seek partnerships or acquisition deals with larger pharma firms to help with the later stages of development for promising candidates. Altimmune’s Garg said the company is looking for partners for the later stages of development but would be open to considering deals with big pharma firms if they benefited shareholders. $100 billion. That’s how much the weight loss drug market will be worth by 2030, according to some analysts. Some think the market is potentially worth much more—some forecasts have grown to around $150 billion by the early 2030s—and both Novo and Lilly raked in billions from their GLP-1 drugs last year (which are also used to treat diabetes). There are now more than 50 weight loss drugs in various stages of clinical development from about 40 companies, according to Bloomberg Intelligence. Analysts told Forbes Lilly and Novo are likely to continue to dominate the market for the foreseeable future. Being first to market has given them a sizable first mover advantage and their sheer size will help consolidate their positions through the deals they make with pharmacies, healthcare providers and insurers. Both are also gathering data on how their anti-obesity drugs affect issues like cardiovascular disease and kidney disease, which could be used to help market the drug, including for other conditions in patients without obesity or diabetes, and secure further buy-in from governments and insurers who may have been unwilling to fund medication for what many still view as a lifestyle problem. Analysts told Forbes such data could be pivotal in securing the two companies’ position in the market and give them a powerful advantage over competitors entering with indications for weight loss alone. Novo secured such an advantage last week when the Food and Drug Administration authorized a label expansion for Wegovy to include cardiovascular benefits. Similarly, Lilly is actively targeting sleep apnea as another condition tirzepatide can help with and if a label expansion is approved, the drug would become the first pharmaceutical treatment for the underlying causes of sleep apnea. Here’s Why Ozempic And Mounjaro Rivals Won’t Topple Drugmakers Novo Nordisk And Eli Lilly Anytime Soon (Forbes)  ​​\n",
      "Ozempic And Wegovy Rivals: Here Are The Companies Working On Competitor Weight Loss Drugs\n",
      "The stellar success of blockbuster drugs like Ozempic, Wegovy, Mounjaro and Zepbound has companies eager to break into the lucrative weight loss drug market — here are the hopeful rivals preparing to challenge Eli Lilly and Novo Nordisk for dominance in the obesity drug gold rush. Drugmakers are vying for a slice of the growing weight loss drug market. Biotech Zealand Pharma is preparing to challenge Danish compatriot Novo on multiple fronts, including survodutide—an injectable it is jointly developing with Germany’s Boehringer Ingelheim that mimics the same GLP-1 gut hormone as Wegovy and Zepbound and another hormone called glucagon and has produced strong results in mid-stage clinical trials as both an anti-obesity drug and a treatment for fatty liver disease—and petrelintide, which mimics a different hunger regulating hormone, amylin, that CEO Adam Steensberg said could become “the backbone of therapy for weight management” after it showed promise in early clinical trials this June. San Diego-based Viking Therapeutics marked itself as a serious competitor in the weight loss drug market in February after revealing promising data from a mid-stage trial of experimental drug VK2735, which suggested it rivaled—and outperformed—Novo and Lilly drugs when given as a weekly injection and in March the company unveiled plans to test an oral tablet version after a small stage trial revealed weight loss as high as 3.3%. Terns Pharmaceuticals is developing an oral weight loss drug targeting the GLP-1 hormone and expects to release 28-day data on weight loss from an early stage trial in the second half of 2024. San Francisco startup Structure Therapeutics is also working on an oral, once-daily GLP-1 drug called GSBR-1290—the drug surpassed Wall Street’s expectations in June when a mid-stage study showed average weight loss of around 6% and it plans to start another mid-stage trial towards the end of this year—that founder and CEO Raymond Stevens says has the potential to become “a best-in-class” and makes an “an ideal backbone” for creating combination therapies to treat obesity and other conditions in the future. Maryland-based Altimmune in March touted promising mid-stage trial results for its injectable weight-loss drug pemvidutide—which is in the same class as Wegovy, Ozempic, Zepbound and Mounjaro—that stood out from the crowd by preserving lean muscle mass while still inducing weight loss, most of which came from fat, and CEO Vipin Garg told Reuters the firm is actively looking for a global partner to help with late state trials and launching the drug. U.S. pharma giant Pfizer scrapped two experimental weight loss pills last year—a once-daily pill, lotiglipron, due to elevated liver enzymes and a twice-daily pill, danuglipron, due to strong side effects—but CEO Albert Bourla has said the company is determined to “play and win” in the obesity space and in July the company said it is pushing ahead with a once-daily danuglipron pill following “encouraging” data from an ongoing early-stage trial. California biotech behemoth Amgen ditched plans for an experimental weight loss pill in May but is still hoping for a slice of the market with MariTide, a monthly injection that is taken less frequently than popular weekly treatments from Lilly and Novo and notably appears to help some patients maintain weight loss after they stop taking it, a key issue emerging for patients on current treatments. While semaglutide and tirzepatide—respectively the generic names for the active drug in Wegovy, Ozempic, Mounjaro, and Zepbound—dominate the weight loss drug market (Mounjaro and Ozempic are only licensed for diabetes), neither Novo Nordisk nor Eli Lilly are resting on their laurels. Both are refining existing medications and developing next generation drugs to shore up their position in the future, as well as ramping up capacity to address persistent shortages amid booming demand. Novo, for example, is developing an oral version of semaglutide intended for once-daily treatment as well as new drugs like the injectable CagriSema, a combination drug that targets GLP-1 and another hormone, amylin, which regulates hunger. It is also developing amycretin in pill and injectable format, which is a single molecule targeting GLP-1 and amylin. Early data on the pill suggests amycretin could outperform Wegovy. Lilly, which secured approval for Zepbound in November, is working on a suite of new drugs including orforglipron and retatrutide, which hope to build on the weight loss in Zepbound and are both in late-stage trials. It is still going to be years before Novo Nordisk and Eli Lilly have serious competition for their popular weight loss treatment on pharmacy shelves. While the process varies, it can take between 10 and 20 years to usher a new drug through all three phases of clinical trials and most drugs ultimately fail during clinical testing. There is no guarantee promising results on efficacy, safety and tolerability from earlier trials will be replicated in larger late-stage trials. Even companies with candidates already in the later stages of testing are still going to require several years to gather and process the data and, should things pan out, time to work with regulators to secure approval. Launching the drug is another matter entirely and shoring up enough supplies has proven difficult even for companies the size of Lilly and Novo, who have continually failed to meet demand. Despite investing billions to ramp up production, both drugs are in short supply and both companies readily admit they are unlikely to meet demand in the near future. Bringing a drug to market is also a costly and logistically complex process, especially during the later stages of development and it is not uncommon for promising candidates, or even entire companies, to change hands. Pharma giants, who are increasingly replacing innovation with mergers and acquisitions, are known to scoop up promising drugs, portfolios or companies. Several have already happened in the weight loss space: Swiss heavyweight Roche inked a $2.7 billion deal for weight loss drug developer Carmot Therapeutics, whose once-weekly injection, CT-388, is in the same class as Lilly’s Mounjaro and Zepbound and British giant AstraZeneca paid up to $2 billion for an experimental pill from Chinese firm Eccogene. Often, smaller companies will also seek partnerships or acquisition deals with larger pharma firms to help with the later stages of development for promising candidates. Altimmune’s Garg said the company is looking for partners for the later stages of development but would be open to considering deals with big pharma firms if they benefited shareholders. $100 billion. That’s how much the weight loss drug market will be worth by 2030, according to some analysts. Some think the market is potentially worth much more—some forecasts have grown to around $150 billion by the early 2030s—and both Novo and Lilly raked in billions from their GLP-1 drugs last year (which are also used to treat diabetes). There are now more than 50 weight loss drugs in various stages of clinical development from about 40 companies, according to Bloomberg Intelligence. Analysts told Forbes Lilly and Novo are likely to continue to dominate the market for the foreseeable future. Being first to market has given them a sizable first mover advantage and their sheer size will help consolidate their positions through the deals they make with pharmacies, healthcare providers and insurers. Both are also gathering data on how their anti-obesity drugs affect issues like cardiovascular disease and kidney disease, which could be used to help market the drug, including for other conditions in patients without obesity or diabetes, and secure further buy-in from governments and insurers who may have been unwilling to fund medication for what many still view as a lifestyle problem. Analysts told Forbes such data could be pivotal in securing the two companies’ position in the market and give them a powerful advantage over competitors entering with indications for weight loss alone. Novo secured such an advantage last week when the Food and Drug Administration authorized a label expansion for Wegovy to include cardiovascular benefits. Similarly, Lilly is actively targeting sleep apnea as another condition tirzepatide can help with and if a label expansion is approved, the drug would become the first pharmaceutical treatment for the underlying causes of sleep apnea. Here’s Why Ozempic And Mounjaro Rivals Won’t Topple Drugmakers Novo Nordisk And Eli Lilly Anytime Soon (Forbes)  ​​\n",
      "Ozempic And Wegovy Rivals: Here Are The Companies Working On Competitor Weight Loss Drugs\n",
      "The stellar success of blockbuster drugs like Ozempic, Wegovy, Mounjaro and Zepbound has companies eager to break into the lucrative weight loss drug market — here are the hopeful rivals preparing to challenge Eli Lilly and Novo Nordisk for dominance in the obesity drug gold rush. Drugmakers are vying for a slice of the growing weight loss drug market. Biotech Zealand Pharma is preparing to challenge Danish compatriot Novo on multiple fronts, including survodutide—an injectable it is jointly developing with Germany’s Boehringer Ingelheim that mimics the same GLP-1 gut hormone as Wegovy and Zepbound and another hormone called glucagon and has produced strong results in mid-stage clinical trials as both an anti-obesity drug and a treatment for fatty liver disease—and petrelintide, which mimics a different hunger regulating hormone, amylin, that CEO Adam Steensberg said could become “the backbone of therapy for weight management” after it showed promise in early clinical trials this June. San Diego-based Viking Therapeutics marked itself as a serious competitor in the weight loss drug market in February after revealing promising data from a mid-stage trial of experimental drug VK2735, which suggested it rivaled—and outperformed—Novo and Lilly drugs when given as a weekly injection and in March the company unveiled plans to test an oral tablet version after a small stage trial revealed weight loss as high as 3.3%. Terns Pharmaceuticals is developing an oral weight loss drug targeting the GLP-1 hormone and expects to release 28-day data on weight loss from an early stage trial in the second half of 2024. San Francisco startup Structure Therapeutics is also working on an oral, once-daily GLP-1 drug called GSBR-1290—the drug surpassed Wall Street’s expectations in June when a mid-stage study showed average weight loss of around 6% and it plans to start another mid-stage trial towards the end of this year—that founder and CEO Raymond Stevens says has the potential to become “a best-in-class” and makes an “an ideal backbone” for creating combination therapies to treat obesity and other conditions in the future. Maryland-based Altimmune in March touted promising mid-stage trial results for its injectable weight-loss drug pemvidutide—which is in the same class as Wegovy, Ozempic, Zepbound and Mounjaro—that stood out from the crowd by preserving lean muscle mass while still inducing weight loss, most of which came from fat, and CEO Vipin Garg told Reuters the firm is actively looking for a global partner to help with late state trials and launching the drug. U.S. pharma giant Pfizer scrapped two experimental weight loss pills last year—a once-daily pill, lotiglipron, due to elevated liver enzymes and a twice-daily pill, danuglipron, due to strong side effects—but CEO Albert Bourla has said the company is determined to “play and win” in the obesity space and in July the company said it is pushing ahead with a once-daily danuglipron pill following “encouraging” data from an ongoing early-stage trial. California biotech behemoth Amgen ditched plans for an experimental weight loss pill in May but is still hoping for a slice of the market with MariTide, a monthly injection that is taken less frequently than popular weekly treatments from Lilly and Novo and notably appears to help some patients maintain weight loss after they stop taking it, a key issue emerging for patients on current treatments. While semaglutide and tirzepatide—respectively the generic names for the active drug in Wegovy, Ozempic, Mounjaro, and Zepbound—dominate the weight loss drug market (Mounjaro and Ozempic are only licensed for diabetes), neither Novo Nordisk nor Eli Lilly are resting on their laurels. Both are refining existing medications and developing next generation drugs to shore up their position in the future, as well as ramping up capacity to address persistent shortages amid booming demand. Novo, for example, is developing an oral version of semaglutide intended for once-daily treatment as well as new drugs like the injectable CagriSema, a combination drug that targets GLP-1 and another hormone, amylin, which regulates hunger. It is also developing amycretin in pill and injectable format, which is a single molecule targeting GLP-1 and amylin. Early data on the pill suggests amycretin could outperform Wegovy. Lilly, which secured approval for Zepbound in November, is working on a suite of new drugs including orforglipron and retatrutide, which hope to build on the weight loss in Zepbound and are both in late-stage trials. It is still going to be years before Novo Nordisk and Eli Lilly have serious competition for their popular weight loss treatment on pharmacy shelves. While the process varies, it can take between 10 and 20 years to usher a new drug through all three phases of clinical trials and most drugs ultimately fail during clinical testing. There is no guarantee promising results on efficacy, safety and tolerability from earlier trials will be replicated in larger late-stage trials. Even companies with candidates already in the later stages of testing are still going to require several years to gather and process the data and, should things pan out, time to work with regulators to secure approval. Launching the drug is another matter entirely and shoring up enough supplies has proven difficult even for companies the size of Lilly and Novo, who have continually failed to meet demand. Despite investing billions to ramp up production, both drugs are in short supply and both companies readily admit they are unlikely to meet demand in the near future. Bringing a drug to market is also a costly and logistically complex process, especially during the later stages of development and it is not uncommon for promising candidates, or even entire companies, to change hands. Pharma giants, who are increasingly replacing innovation with mergers and acquisitions, are known to scoop up promising drugs, portfolios or companies. Several have already happened in the weight loss space: Swiss heavyweight Roche inked a $2.7 billion deal for weight loss drug developer Carmot Therapeutics, whose once-weekly injection, CT-388, is in the same class as Lilly’s Mounjaro and Zepbound and British giant AstraZeneca paid up to $2 billion for an experimental pill from Chinese firm Eccogene. Often, smaller companies will also seek partnerships or acquisition deals with larger pharma firms to help with the later stages of development for promising candidates. Altimmune’s Garg said the company is looking for partners for the later stages of development but would be open to considering deals with big pharma firms if they benefited shareholders. $100 billion. That’s how much the weight loss drug market will be worth by 2030, according to some analysts. Some think the market is potentially worth much more—some forecasts have grown to around $150 billion by the early 2030s—and both Novo and Lilly raked in billions from their GLP-1 drugs last year (which are also used to treat diabetes). There are now more than 50 weight loss drugs in various stages of clinical development from about 40 companies, according to Bloomberg Intelligence. Analysts told Forbes Lilly and Novo are likely to continue to dominate the market for the foreseeable future. Being first to market has given them a sizable first mover advantage and their sheer size will help consolidate their positions through the deals they make with pharmacies, healthcare providers and insurers. Both are also gathering data on how their anti-obesity drugs affect issues like cardiovascular disease and kidney disease, which could be used to help market the drug, including for other conditions in patients without obesity or diabetes, and secure further buy-in from governments and insurers who may have been unwilling to fund medication for what many still view as a lifestyle problem. Analysts told Forbes such data could be pivotal in securing the two companies’ position in the market and give them a powerful advantage over competitors entering with indications for weight loss alone. Novo secured such an advantage last week when the Food and Drug Administration authorized a label expansion for Wegovy to include cardiovascular benefits. Similarly, Lilly is actively targeting sleep apnea as another condition tirzepatide can help with and if a label expansion is approved, the drug would become the first pharmaceutical treatment for the underlying causes of sleep apnea. Here’s Why Ozempic And Mounjaro Rivals Won’t Topple Drugmakers Novo Nordisk And Eli Lilly Anytime Soon (Forbes)  ​​\n",
      "\n"
     ]
    }
   ],
   "source": [
    "content_documents = \"\"\n",
    "for doc in docs:\n",
    "  content = doc.metadata['content']\n",
    "  title = doc.metadata['title']\n",
    "  content_documents += title\n",
    "  content_documents += \"\\n\"\n",
    "  content_documents += content\n",
    "  content_documents += \"\\n\"\n",
    "\n",
    "\n",
    "print(content_documents)"
   ]
  },
  {
   "cell_type": "code",
   "execution_count": null,
   "metadata": {
    "application/vnd.databricks.v1+cell": {
     "cellMetadata": {
      "byteLimit": 2048000,
      "rowLimit": 10000
     },
     "inputWidgets": {},
     "nuid": "9f6aebe5-ef00-408f-bd98-420dade55cfa",
     "showTitle": false,
     "title": ""
    }
   },
   "outputs": [
    {
     "name": "stdout",
     "output_type": "stream",
     "text": [
      "Ozempic And Wegovy Rivals: Here Are The Companies Working On Competitor Weight Loss Drugs\n",
      "The stellar success of blockbuster drugs like Ozempic, Wegovy, Mounjaro and Zepbound has companies eager to break into the lucrative weight loss drug market — here are the hopeful rivals preparing to challenge Eli Lilly and Novo Nordisk for dominance in the obesity drug gold rush. Drugmakers are vying for a slice of the growing weight loss drug market. Biotech Zealand Pharma is preparing to challenge Danish compatriot Novo on multiple fronts, including survodutide—an injectable it is jointly developing with Germany’s Boehringer Ingelheim that mimics the same GLP-1 gut hormone as Wegovy and Zepbound and another hormone called glucagon and has produced strong results in mid-stage clinical trials as both an anti-obesity drug and a treatment for fatty liver disease—and petrelintide, which mimics a different hunger regulating hormone, amylin, that CEO Adam Steensberg said could become “the backbone of therapy for weight management” after it showed promise in early clinical trials this June. San Diego-based Viking Therapeutics marked itself as a serious competitor in the weight loss drug market in February after revealing promising data from a mid-stage trial of experimental drug VK2735, which suggested it rivaled—and outperformed—Novo and Lilly drugs when given as a weekly injection and in March the company unveiled plans to test an oral tablet version after a small stage trial revealed weight loss as high as 3.3%. Terns Pharmaceuticals is developing an oral weight loss drug targeting the GLP-1 hormone and expects to release 28-day data on weight loss from an early stage trial in the second half of 2024. San Francisco startup Structure Therapeutics is also working on an oral, once-daily GLP-1 drug called GSBR-1290—the drug surpassed Wall Street’s expectations in June when a mid-stage study showed average weight loss of around 6% and it plans to start another mid-stage trial towards the end of this year—that founder and CEO Raymond Stevens says has the potential to become “a best-in-class” and makes an “an ideal backbone” for creating combination therapies to treat obesity and other conditions in the future. Maryland-based Altimmune in March touted promising mid-stage trial results for its injectable weight-loss drug pemvidutide—which is in the same class as Wegovy, Ozempic, Zepbound and Mounjaro—that stood out from the crowd by preserving lean muscle mass while still inducing weight loss, most of which came from fat, and CEO Vipin Garg told Reuters the firm is actively looking for a global partner to help with late state trials and launching the drug. U.S. pharma giant Pfizer scrapped two experimental weight loss pills last year—a once-daily pill, lotiglipron, due to elevated liver enzymes and a twice-daily pill, danuglipron, due to strong side effects—but CEO Albert Bourla has said the company is determined to “play and win” in the obesity space and in July the company said it is pushing ahead with a once-daily danuglipron pill following “encouraging” data from an ongoing early-stage trial. California biotech behemoth Amgen ditched plans for an experimental weight loss pill in May but is still hoping for a slice of the market with MariTide, a monthly injection that is taken less frequently than popular weekly treatments from Lilly and Novo and notably appears to help some patients maintain weight loss after they stop taking it, a key issue emerging for patients on current treatments. While semaglutide and tirzepatide—respectively the generic names for the active drug in Wegovy, Ozempic, Mounjaro, and Zepbound—dominate the weight loss drug market (Mounjaro and Ozempic are only licensed for diabetes), neither Novo Nordisk nor Eli Lilly are resting on their laurels. Both are refining existing medications and developing next generation drugs to shore up their position in the future, as well as ramping up capacity to address persistent shortages amid booming demand. Novo, for example, is developing an oral version of semaglutide intended for once-daily treatment as well as new drugs like the injectable CagriSema, a combination drug that targets GLP-1 and another hormone, amylin, which regulates hunger. It is also developing amycretin in pill and injectable format, which is a single molecule targeting GLP-1 and amylin.\n"
     ]
    }
   ],
   "source": [
    "from langchain_experimental.text_splitter import SemanticChunker\n",
    "\n",
    "text_splitter = SemanticChunker(embedding_model, breakpoint_threshold_type=\"percentile\")\n",
    "content_documents_split = text_splitter.create_documents([content_documents])\n",
    "print(content_documents_split[0].page_content)"
   ]
  },
  {
   "cell_type": "code",
   "execution_count": null,
   "metadata": {
    "application/vnd.databricks.v1+cell": {
     "cellMetadata": {
      "byteLimit": 2048000,
      "rowLimit": 10000
     },
     "inputWidgets": {},
     "nuid": "8c5b37fa-8698-4965-8471-a40f49d49261",
     "showTitle": false,
     "title": ""
    }
   },
   "outputs": [
    {
     "name": "stdout",
     "output_type": "stream",
     "text": [
      "13\n",
      "page_content='Ozempic And Wegovy Rivals: Here Are The Companies Working On Competitor Weight Loss Drugs\n",
      "The stellar success of blockbuster drugs like Ozempic, Wegovy, Mounjaro and Zepbound has companies eager to break into the lucrative weight loss drug market — here are the hopeful rivals preparing to challenge Eli Lilly and Novo Nordisk for dominance in the obesity drug gold rush. Drugmakers are vying for a slice of the growing weight loss drug market. Biotech Zealand Pharma is preparing to challenge Danish compatriot Novo on multiple fronts, including survodutide—an injectable it is jointly developing with Germany’s Boehringer Ingelheim that mimics the same GLP-1 gut hormone as Wegovy and Zepbound and another hormone called glucagon and has produced strong results in mid-stage clinical trials as both an anti-obesity drug and a treatment for fatty liver disease—and petrelintide, which mimics a different hunger regulating hormone, amylin, that CEO Adam Steensberg said could become “the backbone of therapy for weight management” after it showed promise in early clinical trials this June. San Diego-based Viking Therapeutics marked itself as a serious competitor in the weight loss drug market in February after revealing promising data from a mid-stage trial of experimental drug VK2735, which suggested it rivaled—and outperformed—Novo and Lilly drugs when given as a weekly injection and in March the company unveiled plans to test an oral tablet version after a small stage trial revealed weight loss as high as 3.3%. Terns Pharmaceuticals is developing an oral weight loss drug targeting the GLP-1 hormone and expects to release 28-day data on weight loss from an early stage trial in the second half of 2024. San Francisco startup Structure Therapeutics is also working on an oral, once-daily GLP-1 drug called GSBR-1290—the drug surpassed Wall Street’s expectations in June when a mid-stage study showed average weight loss of around 6% and it plans to start another mid-stage trial towards the end of this year—that founder and CEO Raymond Stevens says has the potential to become “a best-in-class” and makes an “an ideal backbone” for creating combination therapies to treat obesity and other conditions in the future. Maryland-based Altimmune in March touted promising mid-stage trial results for its injectable weight-loss drug pemvidutide—which is in the same class as Wegovy, Ozempic, Zepbound and Mounjaro—that stood out from the crowd by preserving lean muscle mass while still inducing weight loss, most of which came from fat, and CEO Vipin Garg told Reuters the firm is actively looking for a global partner to help with late state trials and launching the drug. U.S. pharma giant Pfizer scrapped two experimental weight loss pills last year—a once-daily pill, lotiglipron, due to elevated liver enzymes and a twice-daily pill, danuglipron, due to strong side effects—but CEO Albert Bourla has said the company is determined to “play and win” in the obesity space and in July the company said it is pushing ahead with a once-daily danuglipron pill following “encouraging” data from an ongoing early-stage trial. California biotech behemoth Amgen ditched plans for an experimental weight loss pill in May but is still hoping for a slice of the market with MariTide, a monthly injection that is taken less frequently than popular weekly treatments from Lilly and Novo and notably appears to help some patients maintain weight loss after they stop taking it, a key issue emerging for patients on current treatments. While semaglutide and tirzepatide—respectively the generic names for the active drug in Wegovy, Ozempic, Mounjaro, and Zepbound—dominate the weight loss drug market (Mounjaro and Ozempic are only licensed for diabetes), neither Novo Nordisk nor Eli Lilly are resting on their laurels. Both are refining existing medications and developing next generation drugs to shore up their position in the future, as well as ramping up capacity to address persistent shortages amid booming demand. Novo, for example, is developing an oral version of semaglutide intended for once-daily treatment as well as new drugs like the injectable CagriSema, a combination drug that targets GLP-1 and another hormone, amylin, which regulates hunger. It is also developing amycretin in pill and injectable format, which is a single molecule targeting GLP-1 and amylin.'\n"
     ]
    }
   ],
   "source": [
    "print(len(content_documents_split))\n",
    "print(content_documents_split[0])"
   ]
  },
  {
   "cell_type": "code",
   "execution_count": null,
   "metadata": {
    "application/vnd.databricks.v1+cell": {
     "cellMetadata": {
      "byteLimit": 2048000,
      "rowLimit": 10000
     },
     "inputWidgets": {},
     "nuid": "9c40684d-7351-4349-baf2-7e8efed7c6f2",
     "showTitle": false,
     "title": ""
    }
   },
   "outputs": [],
   "source": [
    "content_vector_store = FAISS.from_documents(content_documents_split, embedding_model)"
   ]
  },
  {
   "cell_type": "code",
   "execution_count": null,
   "metadata": {
    "application/vnd.databricks.v1+cell": {
     "cellMetadata": {
      "byteLimit": 2048000,
      "rowLimit": 10000
     },
     "inputWidgets": {},
     "nuid": "20ea2960-b866-46b9-bb97-1382a898d228",
     "showTitle": false,
     "title": ""
    }
   },
   "outputs": [],
   "source": [
    "query = \"Retrieve text with relevant information on a company's financial performance, including financial statements, payment history, credit ratings, loan history, debt levels, and any other factors that might influence the credit risk assessment.\"\n",
    "relevant_docs = content_vector_store.similarity_search(query)"
   ]
  },
  {
   "cell_type": "code",
   "execution_count": null,
   "metadata": {
    "application/vnd.databricks.v1+cell": {
     "cellMetadata": {
      "byteLimit": 2048000,
      "rowLimit": 10000
     },
     "inputWidgets": {},
     "nuid": "3fe73e69-93f3-46e1-ae46-dbc6cde5b392",
     "showTitle": false,
     "title": ""
    }
   },
   "outputs": [
    {
     "name": "stdout",
     "output_type": "stream",
     "text": [
      "4\n",
      "page_content='Early data on the pill suggests amycretin could outperform Wegovy. Lilly, which secured approval for Zepbound in November, is working on a suite of new drugs including orforglipron and retatrutide, which hope to build on the weight loss in Zepbound and are both in late-stage trials. It is still going to be years before Novo Nordisk and Eli Lilly have serious competition for their popular weight loss treatment on pharmacy shelves. While the process varies, it can take between 10 and 20 years to usher a new drug through all three phases of clinical trials and most drugs ultimately fail during clinical testing. There is no guarantee promising results on efficacy, safety and tolerability from earlier trials will be replicated in larger late-stage trials. Even companies with candidates already in the later stages of testing are still going to require several years to gather and process the data and, should things pan out, time to work with regulators to secure approval. Launching the drug is another matter entirely and shoring up enough supplies has proven difficult even for companies the size of Lilly and Novo, who have continually failed to meet demand. Despite investing billions to ramp up production, both drugs are in short supply and both companies readily admit they are unlikely to meet demand in the near future. Bringing a drug to market is also a costly and logistically complex process, especially during the later stages of development and it is not uncommon for promising candidates, or even entire companies, to change hands. Pharma giants, who are increasingly replacing innovation with mergers and acquisitions, are known to scoop up promising drugs, portfolios or companies. Several have already happened in the weight loss space: Swiss heavyweight Roche inked a $2.7 billion deal for weight loss drug developer Carmot Therapeutics, whose once-weekly injection, CT-388, is in the same class as Lilly’s Mounjaro and Zepbound and British giant AstraZeneca paid up to $2 billion for an experimental pill from Chinese firm Eccogene. Often, smaller companies will also seek partnerships or acquisition deals with larger pharma firms to help with the later stages of development for promising candidates. Altimmune’s Garg said the company is looking for partners for the later stages of development but would be open to considering deals with big pharma firms if they benefited shareholders. $100 billion.'\n"
     ]
    }
   ],
   "source": [
    "print(len(relevant_docs))\n",
    "print(relevant_docs[0])"
   ]
  },
  {
   "cell_type": "code",
   "execution_count": null,
   "metadata": {
    "application/vnd.databricks.v1+cell": {
     "cellMetadata": {
      "byteLimit": 2048000,
      "rowLimit": 10000
     },
     "inputWidgets": {},
     "nuid": "f63ba3cd-1ae4-4cf3-9910-c66ff52830e8",
     "showTitle": false,
     "title": ""
    }
   },
   "outputs": [],
   "source": [
    "relevant_info = \"\"\n",
    "for doc in relevant_docs:\n",
    "  relevant_info += doc.page_content\n",
    "\n"
   ]
  },
  {
   "cell_type": "code",
   "execution_count": null,
   "metadata": {
    "application/vnd.databricks.v1+cell": {
     "cellMetadata": {
      "byteLimit": 2048000,
      "rowLimit": 10000
     },
     "inputWidgets": {},
     "nuid": "cf22407b-e4a8-483f-80f2-cfe7185cd81a",
     "showTitle": false,
     "title": ""
    }
   },
   "outputs": [],
   "source": [
    "from langchain.prompts.prompt import PromptTemplate\n",
    "from langchain_core.pydantic_v1 import BaseModel, Field\n",
    "from langchain.output_parsers import PydanticOutputParser\n",
    "\n",
    "class CompanyCreditRisk(BaseModel):\n",
    "    credit_risk_rating: int = Field(..., ge=1, le=10, description=\"Credit risk rating on a scale of 1 to 10\")\n",
    "    justification: str = Field(..., description=\"Justification for the credit risk rating.\")\n",
    "\n",
    "parser = PydanticOutputParser(pydantic_object=CompanyCreditRisk)\n",
    "\n",
    "template = \"\"\"\n",
    "You are an expert financial analyst specializing in credit risk assessment. Given the following passage and company name, assess the company's credit risk on a scale from 1 to 10, where 1 indicates the lowest risk and 10 indicates the highest risk. Provide a brief justification for each rating based on the content of the article.\n",
    "\n",
    "Passage:\n",
    "{input}\n",
    "\n",
    "Company Name:\n",
    "{company_name}\n",
    "\n",
    "Format the answer as a valid JSON object where it is a dictionary with two keys:\n",
    "- \"credit_risk_rating\": the rating score\n",
    "- \"justification\": text to justify the score\n",
    "\"\"\"\n",
    "\n",
    "prompt = PromptTemplate(\n",
    "    template=template,\n",
    "    input_variables=[\"input\", \"company_name\"],\n",
    ")\n",
    "\n",
    "chain = prompt | llm | parser"
   ]
  },
  {
   "cell_type": "code",
   "execution_count": null,
   "metadata": {
    "application/vnd.databricks.v1+cell": {
     "cellMetadata": {
      "byteLimit": 2048000,
      "rowLimit": 10000
     },
     "inputWidgets": {},
     "nuid": "7671f96d-4337-40d0-8586-207308b904d0",
     "showTitle": false,
     "title": ""
    }
   },
   "outputs": [
    {
     "name": "stdout",
     "output_type": "stream",
     "text": [
      "credit_risk_rating=2 justification=\"Roche is a Swiss heavyweight in the pharmaceutical industry and has recently inked a $2.7 billion deal for weight loss drug developer Carmot Therapeutics. This indicates that the company has significant financial resources and is actively investing in promising new ventures. Furthermore, the company operates in a sector where innovation is often replaced with mergers and acquisitions, suggesting that Roche is well-positioned to capitalize on this trend. However, the pharmaceutical industry is inherently risky, with high costs and long development times for new drugs, and there is no guarantee that new drugs will be successful. Despite these risks, Roche's size, financial resources, and strategic investments suggest a relatively low credit risk.\"\n"
     ]
    }
   ],
   "source": [
    "result = chain.invoke({\"input\": relevant_info, \"company_name\": \"Roche\"})\n",
    "print(result)"
   ]
  },
  {
   "cell_type": "code",
   "execution_count": null,
   "metadata": {
    "application/vnd.databricks.v1+cell": {
     "cellMetadata": {
      "byteLimit": 2048000,
      "rowLimit": 10000
     },
     "inputWidgets": {},
     "nuid": "bfe0ddcd-7e89-4f15-930c-c49c930907df",
     "showTitle": false,
     "title": ""
    }
   },
   "outputs": [
    {
     "data": {
      "text/plain": [
       "2"
      ]
     },
     "execution_count": 91,
     "metadata": {},
     "output_type": "execute_result"
    }
   ],
   "source": [
    "result.credit_risk_rating"
   ]
  }
 ],
 "metadata": {
  "application/vnd.databricks.v1+notebook": {
   "dashboards": [],
   "environmentMetadata": null,
   "language": "python",
   "notebookMetadata": {
    "pythonIndentUnit": 2
   },
   "notebookName": "RAG",
   "widgets": {}
  },
  "kernelspec": {
   "display_name": ".venv",
   "language": "python",
   "name": "python3"
  },
  "language_info": {
   "codemirror_mode": {
    "name": "ipython",
    "version": 3
   },
   "file_extension": ".py",
   "mimetype": "text/x-python",
   "name": "python",
   "nbconvert_exporter": "python",
   "pygments_lexer": "ipython3",
   "version": "3.12.3"
  }
 },
 "nbformat": 4,
 "nbformat_minor": 0
}
